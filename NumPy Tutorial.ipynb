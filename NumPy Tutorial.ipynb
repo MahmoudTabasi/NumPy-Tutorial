{
  "nbformat": 4,
  "nbformat_minor": 0,
  "metadata": {
    "colab": {
      "name": "NumPy",
      "provenance": []
    },
    "kernelspec": {
      "name": "python3",
      "display_name": "Python 3"
    },
    "language_info": {
      "name": "python"
    }
  },
  "cells": [
    {
      "cell_type": "code",
      "execution_count": 47,
      "metadata": {
        "id": "GDblZ28RixTQ"
      },
      "outputs": [],
      "source": [
        "import numpy  as np \n",
        "import pandas as pd\n",
        "import matplotlib.pyplot as plt"
      ]
    },
    {
      "cell_type": "markdown",
      "source": [
        "## **Basics of arrays**"
      ],
      "metadata": {
        "id": "F6mpRkHou0GQ"
      }
    },
    {
      "cell_type": "code",
      "source": [
        "#creat an array from a list:\n",
        "arr1=np.array([1,2,3,4,5,6,7,8,9])\n",
        "arr1"
      ],
      "metadata": {
        "colab": {
          "base_uri": "https://localhost:8080/"
        },
        "id": "oWUqxVStjsY4",
        "outputId": "a26c8d0f-c8c8-4617-ebb3-5cf4ec6dba36"
      },
      "execution_count": 48,
      "outputs": [
        {
          "output_type": "execute_result",
          "data": {
            "text/plain": [
              "array([1, 2, 3, 4, 5, 6, 7, 8, 9])"
            ]
          },
          "metadata": {},
          "execution_count": 48
        }
      ]
    },
    {
      "cell_type": "code",
      "source": [
        "#can we have array with different data type?!\n",
        "arr2 = np.array([0,1.2,2,3.14])\n",
        "arr2"
      ],
      "metadata": {
        "colab": {
          "base_uri": "https://localhost:8080/"
        },
        "id": "r6QEtHyskBic",
        "outputId": "535ea0ec-884a-410e-f234-427ee81e6328"
      },
      "execution_count": 49,
      "outputs": [
        {
          "output_type": "execute_result",
          "data": {
            "text/plain": [
              "array([0.  , 1.2 , 2.  , 3.14])"
            ]
          },
          "metadata": {},
          "execution_count": 49
        }
      ]
    },
    {
      "cell_type": "code",
      "source": [
        "#Note that we got an array with float data type\n",
        "[type(item) for item in arr2]"
      ],
      "metadata": {
        "colab": {
          "base_uri": "https://localhost:8080/"
        },
        "id": "uoPikBawluPi",
        "outputId": "ca850c4f-0dab-4292-f5fb-3b356e6fcd26"
      },
      "execution_count": 50,
      "outputs": [
        {
          "output_type": "execute_result",
          "data": {
            "text/plain": [
              "[numpy.float64, numpy.float64, numpy.float64, numpy.float64]"
            ]
          },
          "metadata": {},
          "execution_count": 50
        }
      ]
    },
    {
      "cell_type": "code",
      "source": [
        "#So how we can contain more than one data type in an array?\n",
        "#we can use np.concatenate\n",
        "arr3 = np.array([\"A\",\"B\",\"C\"])\n",
        "arr4 = np.concatenate((arr1, arr3))\n",
        "arr4"
      ],
      "metadata": {
        "colab": {
          "base_uri": "https://localhost:8080/"
        },
        "id": "lwhcmj_qmD3Q",
        "outputId": "c26baba3-3e40-40e5-b009-cb37a53a8ba6"
      },
      "execution_count": 51,
      "outputs": [
        {
          "output_type": "execute_result",
          "data": {
            "text/plain": [
              "array(['1', '2', '3', '4', '5', '6', '7', '8', '9', 'A', 'B', 'C'],\n",
              "      dtype='<U21')"
            ]
          },
          "metadata": {},
          "execution_count": 51
        }
      ]
    },
    {
      "cell_type": "code",
      "source": [
        "# multidimensional arrays \n",
        "arr5 = np.array([[1,2,3],\n",
        "                [4,5,6],\n",
        "                [7,8,9]] )\n",
        "arr6 =np.array([range(i,i+3) for i in [1,4,7]])\n",
        "print(arr5, arr6,sep=\"\\n*******\\n\")"
      ],
      "metadata": {
        "colab": {
          "base_uri": "https://localhost:8080/"
        },
        "id": "d1C3N8_vmyyS",
        "outputId": "bc6d5c8e-81a9-48ef-8e0d-eaa5b1c0444c"
      },
      "execution_count": 52,
      "outputs": [
        {
          "output_type": "stream",
          "name": "stdout",
          "text": [
            "[[1 2 3]\n",
            " [4 5 6]\n",
            " [7 8 9]]\n",
            "*******\n",
            "[[1 2 3]\n",
            " [4 5 6]\n",
            " [7 8 9]]\n"
          ]
        }
      ]
    },
    {
      "cell_type": "markdown",
      "source": [
        "## **Special Types of Arrays**"
      ],
      "metadata": {
        "id": "Puu9eN1cs2V_"
      }
    },
    {
      "cell_type": "code",
      "source": [
        "#zeros array\n",
        "np.zeros(10,dtype=int)"
      ],
      "metadata": {
        "colab": {
          "base_uri": "https://localhost:8080/"
        },
        "id": "fEs263cppAT_",
        "outputId": "61ed1622-fa6e-43d2-b41f-ee8a986dfa05"
      },
      "execution_count": 53,
      "outputs": [
        {
          "output_type": "execute_result",
          "data": {
            "text/plain": [
              "array([0, 0, 0, 0, 0, 0, 0, 0, 0, 0])"
            ]
          },
          "metadata": {},
          "execution_count": 53
        }
      ]
    },
    {
      "cell_type": "code",
      "source": [
        "#ones array\n",
        "np.ones((4,4))"
      ],
      "metadata": {
        "colab": {
          "base_uri": "https://localhost:8080/"
        },
        "id": "BjVGfaZ5sa-I",
        "outputId": "687c1af9-ed86-471e-da57-5d6bdb6f5afb"
      },
      "execution_count": 54,
      "outputs": [
        {
          "output_type": "execute_result",
          "data": {
            "text/plain": [
              "array([[1., 1., 1., 1.],\n",
              "       [1., 1., 1., 1.],\n",
              "       [1., 1., 1., 1.],\n",
              "       [1., 1., 1., 1.]])"
            ]
          },
          "metadata": {},
          "execution_count": 54
        }
      ]
    },
    {
      "cell_type": "code",
      "source": [
        "#filled with a number array \n",
        "np.full((3,2),2.72)"
      ],
      "metadata": {
        "colab": {
          "base_uri": "https://localhost:8080/"
        },
        "id": "hUhd2baXseMH",
        "outputId": "bb8547c6-3e94-45b3-cfbe-871d323c81fd"
      },
      "execution_count": 55,
      "outputs": [
        {
          "output_type": "execute_result",
          "data": {
            "text/plain": [
              "array([[2.72, 2.72],\n",
              "       [2.72, 2.72],\n",
              "       [2.72, 2.72]])"
            ]
          },
          "metadata": {},
          "execution_count": 55
        }
      ]
    },
    {
      "cell_type": "code",
      "source": [
        "#linear sequence array \n",
        "np.arange(10,100,10) #np.arange(statr , end , steps)"
      ],
      "metadata": {
        "colab": {
          "base_uri": "https://localhost:8080/"
        },
        "id": "s1tHUtTfsg6_",
        "outputId": "e80e6ebb-63fc-4e8d-8ccf-36769f6f8afe"
      },
      "execution_count": 56,
      "outputs": [
        {
          "output_type": "execute_result",
          "data": {
            "text/plain": [
              "array([10, 20, 30, 40, 50, 60, 70, 80, 90])"
            ]
          },
          "metadata": {},
          "execution_count": 56
        }
      ]
    },
    {
      "cell_type": "code",
      "source": [
        "np.arange(10,100,10).reshape(3,3)"
      ],
      "metadata": {
        "colab": {
          "base_uri": "https://localhost:8080/"
        },
        "id": "F07VH-7EuBcZ",
        "outputId": "31ba9e9f-cbcd-418a-ed01-2a0049d49e42"
      },
      "execution_count": 57,
      "outputs": [
        {
          "output_type": "execute_result",
          "data": {
            "text/plain": [
              "array([[10, 20, 30],\n",
              "       [40, 50, 60],\n",
              "       [70, 80, 90]])"
            ]
          },
          "metadata": {},
          "execution_count": 57
        }
      ]
    },
    {
      "cell_type": "code",
      "source": [
        "# values between tow numbers array\n",
        "np.linspace(2.72,3.14,7) #np.linspace(1st num , 2nd num , number of vlaues)"
      ],
      "metadata": {
        "colab": {
          "base_uri": "https://localhost:8080/"
        },
        "id": "Q0qdFoLqskz-",
        "outputId": "95f10961-ee1d-43e6-a7ac-a1e0b65c37a0"
      },
      "execution_count": 58,
      "outputs": [
        {
          "output_type": "execute_result",
          "data": {
            "text/plain": [
              "array([2.72, 2.79, 2.86, 2.93, 3.  , 3.07, 3.14])"
            ]
          },
          "metadata": {},
          "execution_count": 58
        }
      ]
    },
    {
      "cell_type": "code",
      "source": [
        "# uniformly distributed array (random values between 0 and 1)\n",
        "np.random.random((4,4))"
      ],
      "metadata": {
        "colab": {
          "base_uri": "https://localhost:8080/"
        },
        "id": "K4kxMyHbskxB",
        "outputId": "7a788022-a46a-47e4-b044-3abea04b4be9"
      },
      "execution_count": 59,
      "outputs": [
        {
          "output_type": "execute_result",
          "data": {
            "text/plain": [
              "array([[0.7047494 , 0.78330924, 0.96836966, 0.54744167],\n",
              "       [0.61580594, 0.68741984, 0.46420277, 0.95653426],\n",
              "       [0.12559385, 0.24408229, 0.71668448, 0.00468354],\n",
              "       [0.62047982, 0.2163436 , 0.21938229, 0.24384304]])"
            ]
          },
          "metadata": {},
          "execution_count": 59
        }
      ]
    },
    {
      "cell_type": "code",
      "source": [
        "#normally distributed array (andom values with mean 0 and standard deviation 1)\n",
        "np.random.normal(0,1,(4,4))"
      ],
      "metadata": {
        "colab": {
          "base_uri": "https://localhost:8080/"
        },
        "id": "iYmbwBV5skuU",
        "outputId": "56e9bec2-475c-410b-ee61-0dda8e908342"
      },
      "execution_count": 60,
      "outputs": [
        {
          "output_type": "execute_result",
          "data": {
            "text/plain": [
              "array([[-2.53321408, -3.19282687,  0.55888558, -0.37077775],\n",
              "       [-1.32913373,  0.85601378,  0.11044221,  1.11587184],\n",
              "       [ 0.34909165, -1.22451771, -0.72706828,  1.47308605],\n",
              "       [ 0.87607698, -1.97683221, -0.32843748, -0.25900997]])"
            ]
          },
          "metadata": {},
          "execution_count": 60
        }
      ]
    },
    {
      "cell_type": "code",
      "source": [
        "# random integers in an interval [a,b]\n",
        "np.random.randint(13,27,(2,2)) #  np.random.randint(a,b,size)"
      ],
      "metadata": {
        "colab": {
          "base_uri": "https://localhost:8080/"
        },
        "id": "fjxkxz79skq_",
        "outputId": "fe6c620c-e284-4736-83cd-5279479ba875"
      },
      "execution_count": 61,
      "outputs": [
        {
          "output_type": "execute_result",
          "data": {
            "text/plain": [
              "array([[16, 14],\n",
              "       [26, 17]])"
            ]
          },
          "metadata": {},
          "execution_count": 61
        }
      ]
    },
    {
      "cell_type": "code",
      "source": [
        "#identity matrix \n",
        "np.eye(5)"
      ],
      "metadata": {
        "colab": {
          "base_uri": "https://localhost:8080/"
        },
        "id": "290Qh2KNskgI",
        "outputId": "383b265d-63bb-4557-b3b0-b20cb1076f13"
      },
      "execution_count": 62,
      "outputs": [
        {
          "output_type": "execute_result",
          "data": {
            "text/plain": [
              "array([[1., 0., 0., 0., 0.],\n",
              "       [0., 1., 0., 0., 0.],\n",
              "       [0., 0., 1., 0., 0.],\n",
              "       [0., 0., 0., 1., 0.],\n",
              "       [0., 0., 0., 0., 1.]])"
            ]
          },
          "metadata": {},
          "execution_count": 62
        }
      ]
    },
    {
      "cell_type": "code",
      "source": [
        "#empty matrix , Return a new array of given shape and type, without initializing entries.\n",
        "np.empty(3) "
      ],
      "metadata": {
        "colab": {
          "base_uri": "https://localhost:8080/"
        },
        "id": "HSbd_ySYsjcH",
        "outputId": "b7ded369-aeb8-47bf-921a-c1903c80ca77"
      },
      "execution_count": 63,
      "outputs": [
        {
          "output_type": "execute_result",
          "data": {
            "text/plain": [
              "array([1.2 , 2.  , 3.14])"
            ]
          },
          "metadata": {},
          "execution_count": 63
        }
      ]
    },
    {
      "cell_type": "markdown",
      "source": [
        "## **Array Attributes**"
      ],
      "metadata": {
        "id": "-eoKE6XoviK0"
      }
    },
    {
      "cell_type": "code",
      "source": [
        "d1_arr = np.zeros(4) #One-dimensional array\n",
        "d2_arr = np.zeros((3,3)) #Two-dimensional array\n",
        "d3_arr = np.zeros((3,4,5)) # Three-dimensional array\n",
        "for arr in [d1_arr,d2_arr,d3_arr] :\n",
        "  print (\"Array:\" ,arr )\n",
        "  print(\"Dimension:\", arr.ndim)\n",
        "  print(\"Shape:\",arr.shape )\n",
        "  print(\"Size:\" ,arr.size)\n",
        "  print(\"***************\")"
      ],
      "metadata": {
        "colab": {
          "base_uri": "https://localhost:8080/"
        },
        "id": "sPRFKI_tvkTg",
        "outputId": "0a472a89-3635-4cfe-bdb1-aed83ace0c03"
      },
      "execution_count": 64,
      "outputs": [
        {
          "output_type": "stream",
          "name": "stdout",
          "text": [
            "Array: [0. 0. 0. 0.]\n",
            "Dimension: 1\n",
            "Shape: (4,)\n",
            "Size: 4\n",
            "***************\n",
            "Array: [[0. 0. 0.]\n",
            " [0. 0. 0.]\n",
            " [0. 0. 0.]]\n",
            "Dimension: 2\n",
            "Shape: (3, 3)\n",
            "Size: 9\n",
            "***************\n",
            "Array: [[[0. 0. 0. 0. 0.]\n",
            "  [0. 0. 0. 0. 0.]\n",
            "  [0. 0. 0. 0. 0.]\n",
            "  [0. 0. 0. 0. 0.]]\n",
            "\n",
            " [[0. 0. 0. 0. 0.]\n",
            "  [0. 0. 0. 0. 0.]\n",
            "  [0. 0. 0. 0. 0.]\n",
            "  [0. 0. 0. 0. 0.]]\n",
            "\n",
            " [[0. 0. 0. 0. 0.]\n",
            "  [0. 0. 0. 0. 0.]\n",
            "  [0. 0. 0. 0. 0.]\n",
            "  [0. 0. 0. 0. 0.]]]\n",
            "Dimension: 3\n",
            "Shape: (3, 4, 5)\n",
            "Size: 60\n",
            "***************\n"
          ]
        }
      ]
    },
    {
      "cell_type": "markdown",
      "source": [
        "## **Array Indexing**"
      ],
      "metadata": {
        "id": "d-OkOfbe_GJU"
      }
    },
    {
      "cell_type": "markdown",
      "source": [
        "**Single Elements**"
      ],
      "metadata": {
        "id": "RC6wF7F5_WqX"
      }
    },
    {
      "cell_type": "code",
      "source": [
        "#we can access the nth value (counting from zero) by specifying the desired index in square brackets:\n",
        "\n",
        "print(\"The Array : \", arr1, \"1st item :\",arr1[0],\n",
        "      \"8th item: \", arr1[7],\n",
        "      \"last item:\", arr1[-1],\n",
        "      \"2nd to last item :\", arr1[-2],\n",
        "      \"last item:\",arr1[len(arr1)-1],\n",
        "      \"1st item :\" ,arr1[-len(arr1)],sep=\"\\n\")\n"
      ],
      "metadata": {
        "colab": {
          "base_uri": "https://localhost:8080/"
        },
        "id": "WBBIXc95_H-G",
        "outputId": "01b4ccc4-a6b3-4dbc-89f8-8ceb95963ad2"
      },
      "execution_count": 65,
      "outputs": [
        {
          "output_type": "stream",
          "name": "stdout",
          "text": [
            "The Array : \n",
            "[1 2 3 4 5 6 7 8 9]\n",
            "1st item :\n",
            "1\n",
            "8th item: \n",
            "8\n",
            "last item:\n",
            "9\n",
            "2nd to last item :\n",
            "8\n",
            "last item:\n",
            "9\n",
            "1st item :\n",
            "1\n"
          ]
        }
      ]
    },
    {
      "cell_type": "code",
      "source": [
        "mat = arr1.reshape(3,3)\n",
        "print(\"The Matrix : \", mat, \"1st entry :\",mat[0,0],\n",
        "      \"8th entry: \", mat[2,1],\n",
        "      \"last entry:\", mat[2,2],\n",
        "      \"8th entry :\", mat[-1,-2],\n",
        "      \"last entry:\",mat[len(mat)-1,len(mat)-1],\n",
        "      \"1st entry :\" ,mat[-len(mat),-len(mat)],sep=\"\\n\")"
      ],
      "metadata": {
        "colab": {
          "base_uri": "https://localhost:8080/"
        },
        "id": "7PkVtCZ5_uDJ",
        "outputId": "9b2ea9de-781b-4b4e-8482-782f4358667d"
      },
      "execution_count": 66,
      "outputs": [
        {
          "output_type": "stream",
          "name": "stdout",
          "text": [
            "The Matrix : \n",
            "[[1 2 3]\n",
            " [4 5 6]\n",
            " [7 8 9]]\n",
            "1st entry :\n",
            "1\n",
            "8th entry: \n",
            "8\n",
            "last entry:\n",
            "9\n",
            "8th entry :\n",
            "8\n",
            "last entry:\n",
            "9\n",
            "1st entry :\n",
            "1\n"
          ]
        }
      ]
    },
    {
      "cell_type": "code",
      "source": [
        "# change the value of an entry :\n",
        "arr_c = np.copy(arr1) # make a copy of the array\n",
        "arr_c[0] = 55\n",
        "mat_c =np.copy(mat)\n",
        "mat_c[1,1] = 33\n",
        "print(arr_c,mat_c,sep=\"\\n\")\n"
      ],
      "metadata": {
        "colab": {
          "base_uri": "https://localhost:8080/"
        },
        "id": "IkKU29lLAOXL",
        "outputId": "dc0f5c4d-e917-4c7c-f1a9-c3ccd3f44403"
      },
      "execution_count": 67,
      "outputs": [
        {
          "output_type": "stream",
          "name": "stdout",
          "text": [
            "[55  2  3  4  5  6  7  8  9]\n",
            "[[ 1  2  3]\n",
            " [ 4 33  6]\n",
            " [ 7  8  9]]\n"
          ]
        }
      ]
    },
    {
      "cell_type": "markdown",
      "source": [
        "**Subarrays**"
      ],
      "metadata": {
        "id": "yGNy0ludHF36"
      }
    },
    {
      "cell_type": "code",
      "source": [
        "#One-dimensional subarrays , array [start , stop , step]\n",
        "print(arr1[2:5:2] , arr1[:3], arr1[3:], arr1[::2],arr1[::],arr1[::-1],sep=\"\\n\")"
      ],
      "metadata": {
        "colab": {
          "base_uri": "https://localhost:8080/"
        },
        "id": "rbw59ZvkENw3",
        "outputId": "4a41990c-0a22-440d-9d81-c6282d5b6fdb"
      },
      "execution_count": 68,
      "outputs": [
        {
          "output_type": "stream",
          "name": "stdout",
          "text": [
            "[3 5]\n",
            "[1 2 3]\n",
            "[4 5 6 7 8 9]\n",
            "[1 3 5 7 9]\n",
            "[1 2 3 4 5 6 7 8 9]\n",
            "[9 8 7 6 5 4 3 2 1]\n"
          ]
        }
      ]
    },
    {
      "cell_type": "code",
      "source": [
        "#Multidimensional subarrays\n",
        "print(mat[1:2 , 0:2], mat[0],mat[:,0],mat[:,::2],mat[-1:,1: ],sep=\"\\n*******\\n\")"
      ],
      "metadata": {
        "colab": {
          "base_uri": "https://localhost:8080/"
        },
        "id": "-SDGHkEUEduM",
        "outputId": "9b57c676-43a9-4b7a-cc5d-bc0d28519268"
      },
      "execution_count": 69,
      "outputs": [
        {
          "output_type": "stream",
          "name": "stdout",
          "text": [
            "[[4 5]]\n",
            "*******\n",
            "[1 2 3]\n",
            "*******\n",
            "[1 4 7]\n",
            "*******\n",
            "[[1 3]\n",
            " [4 6]\n",
            " [7 9]]\n",
            "*******\n",
            "[[8 9]]\n"
          ]
        }
      ]
    },
    {
      "cell_type": "code",
      "source": [
        "mat"
      ],
      "metadata": {
        "colab": {
          "base_uri": "https://localhost:8080/"
        },
        "id": "wASNva-9IfZO",
        "outputId": "aeac0cf8-42eb-49a2-9f11-6f2c93ddee75"
      },
      "execution_count": 70,
      "outputs": [
        {
          "output_type": "execute_result",
          "data": {
            "text/plain": [
              "array([[1, 2, 3],\n",
              "       [4, 5, 6],\n",
              "       [7, 8, 9]])"
            ]
          },
          "metadata": {},
          "execution_count": 70
        }
      ]
    },
    {
      "cell_type": "code",
      "source": [
        "#Stack arrays in sequence horizontally (column wise).\n",
        "harr = np.hstack((arr1,arr2))\n",
        "# Stack arrays in sequence vertically (row wise).\n",
        "varr = np.vstack((arr1,arr1))\n",
        "print(harr,varr,sep=\"\\n ************* \\n \")"
      ],
      "metadata": {
        "colab": {
          "base_uri": "https://localhost:8080/"
        },
        "id": "JH3K0ktHTMF4",
        "outputId": "78fed198-8093-4e64-ba34-ef71f76ed963"
      },
      "execution_count": 71,
      "outputs": [
        {
          "output_type": "stream",
          "name": "stdout",
          "text": [
            "[1.   2.   3.   4.   5.   6.   7.   8.   9.   0.   1.2  2.   3.14]\n",
            " ************* \n",
            " [[1 2 3 4 5 6 7 8 9]\n",
            " [1 2 3 4 5 6 7 8 9]]\n"
          ]
        }
      ]
    },
    {
      "cell_type": "markdown",
      "source": [
        "**Splitting of arrays**"
      ],
      "metadata": {
        "id": "xkfpd5pWWvJo"
      }
    },
    {
      "cell_type": "code",
      "source": [
        "s1arr = np.split(arr1,3)\n",
        "s2arr = np.split(arr1 , [5,7])\n",
        "arr_a , arr_b , arr_c = s1arr\n",
        "print(s1arr ,s2arr , arr_a , arr_b , arr_c , sep= \"\\n  **************** \\n\")"
      ],
      "metadata": {
        "colab": {
          "base_uri": "https://localhost:8080/"
        },
        "id": "CyEPzmmWVcF3",
        "outputId": "e87f542e-cc18-457e-abdf-80194eac1720"
      },
      "execution_count": 72,
      "outputs": [
        {
          "output_type": "stream",
          "name": "stdout",
          "text": [
            "[array([1, 2, 3]), array([4, 5, 6]), array([7, 8, 9])]\n",
            "  **************** \n",
            "[array([1, 2, 3, 4, 5]), array([6, 7]), array([8, 9])]\n",
            "  **************** \n",
            "[1 2 3]\n",
            "  **************** \n",
            "[4 5 6]\n",
            "  **************** \n",
            "[7 8 9]\n"
          ]
        }
      ]
    },
    {
      "cell_type": "markdown",
      "source": [
        "## **Array Arithmetic**"
      ],
      "metadata": {
        "id": "NZw5V22qY2sp"
      }
    },
    {
      "cell_type": "markdown",
      "source": [
        "### **Basics**"
      ],
      "metadata": {
        "id": "-s5lWSqqayc-"
      }
    },
    {
      "cell_type": "code",
      "source": [
        "add_arr = 5 + arr1 \n",
        "subtract_arr =  arr1-11\n",
        "multiply_arr = 2 * arr1\n",
        "divide_arr = 7/ arr1\n",
        "floor_divide_arr = 9//arr1\n",
        "power_arr = arr1**3\n",
        "mod_arr = arr1%2\n",
        "print (add_arr, subtract_arr ,multiply_arr , divide_arr , floor_divide_arr , power_arr , mod_arr ,abs(subtract_arr), sep =\"\\n ************* \\n \")"
      ],
      "metadata": {
        "colab": {
          "base_uri": "https://localhost:8080/"
        },
        "id": "5uXs0UBwY4K7",
        "outputId": "9968bde3-cb6b-416c-83cc-b4e653c956a8"
      },
      "execution_count": 73,
      "outputs": [
        {
          "output_type": "stream",
          "name": "stdout",
          "text": [
            "[ 6  7  8  9 10 11 12 13 14]\n",
            " ************* \n",
            " [-10  -9  -8  -7  -6  -5  -4  -3  -2]\n",
            " ************* \n",
            " [ 2  4  6  8 10 12 14 16 18]\n",
            " ************* \n",
            " [7.         3.5        2.33333333 1.75       1.4        1.16666667\n",
            " 1.         0.875      0.77777778]\n",
            " ************* \n",
            " [9 4 3 2 1 1 1 1 1]\n",
            " ************* \n",
            " [  1   8  27  64 125 216 343 512 729]\n",
            " ************* \n",
            " [1 0 1 0 1 0 1 0 1]\n",
            " ************* \n",
            " [10  9  8  7  6  5  4  3  2]\n"
          ]
        }
      ]
    },
    {
      "cell_type": "markdown",
      "source": [
        "**Trigonometric functions**"
      ],
      "metadata": {
        "id": "4LGEU4r1a-CF"
      }
    },
    {
      "cell_type": "code",
      "source": [
        "rad_theta = np.linspace(0, 2*np.pi, 5)\n",
        "dge_theta = [0, 30 , 45  ]\n",
        "to_rad = np.radians( dge_theta)\n",
        "to_dge = np.degrees(rad_theta)\n",
        "\n",
        "print(\"theta in radians : \", rad_theta , \"theta in dgrees :\",to_dge,\"sin(theta) :\", np.sin(rad_theta),\"cos(theta):\", np.cos(rad_theta),\n",
        "      \"tan(theta):\",np.tan(rad_theta),sep = \"\\n \\n \")\n",
        "print(\"theta in dgrees :\" , dge_theta , \"theta in radians\", to_rad, sep =\"\\n \\n \")\n",
        "print(\"arcsin(theta):\" , np.arcsin(to_rad) , \"arccos(theta):\",np.arccos(to_rad),\"arctan(theta):\", np.arctan(to_rad),sep=\"\\n\\n\")"
      ],
      "metadata": {
        "colab": {
          "base_uri": "https://localhost:8080/"
        },
        "id": "P9L23OxMbAPE",
        "outputId": "da8ef9ab-a01e-4051-e79d-7d558e1e0f47"
      },
      "execution_count": 74,
      "outputs": [
        {
          "output_type": "stream",
          "name": "stdout",
          "text": [
            "theta in radians : \n",
            " \n",
            " [0.         1.57079633 3.14159265 4.71238898 6.28318531]\n",
            " \n",
            " theta in dgrees :\n",
            " \n",
            " [  0.  90. 180. 270. 360.]\n",
            " \n",
            " sin(theta) :\n",
            " \n",
            " [ 0.0000000e+00  1.0000000e+00  1.2246468e-16 -1.0000000e+00\n",
            " -2.4492936e-16]\n",
            " \n",
            " cos(theta):\n",
            " \n",
            " [ 1.0000000e+00  6.1232340e-17 -1.0000000e+00 -1.8369702e-16\n",
            "  1.0000000e+00]\n",
            " \n",
            " tan(theta):\n",
            " \n",
            " [ 0.00000000e+00  1.63312394e+16 -1.22464680e-16  5.44374645e+15\n",
            " -2.44929360e-16]\n",
            "theta in dgrees :\n",
            " \n",
            " [0, 30, 45]\n",
            " \n",
            " theta in radians\n",
            " \n",
            " [0.         0.52359878 0.78539816]\n",
            "arcsin(theta):\n",
            "\n",
            "[0.         0.55106958 0.90333911]\n",
            "\n",
            "arccos(theta):\n",
            "\n",
            "[1.57079633 1.01972674 0.66745722]\n",
            "\n",
            "arctan(theta):\n",
            "\n",
            "[0.         0.48234791 0.66577375]\n"
          ]
        }
      ]
    },
    {
      "cell_type": "markdown",
      "source": [
        "**Exponents and logarithms**"
      ],
      "metadata": {
        "id": "4BoNbKotlrno"
      }
    },
    {
      "cell_type": "code",
      "source": [
        "exp_arr = np.exp(arr1)\n",
        "ln_arr = np.log(arr1)\n",
        "log_arr = np.log2(arr1)\n",
        "print(exp_arr , ln_arr , log_arr , sep=\"\\n\\n\")"
      ],
      "metadata": {
        "colab": {
          "base_uri": "https://localhost:8080/"
        },
        "id": "Gj5UC_zVltGv",
        "outputId": "b212380f-b835-4415-8f4d-2ab53714dea1"
      },
      "execution_count": 75,
      "outputs": [
        {
          "output_type": "stream",
          "name": "stdout",
          "text": [
            "[2.71828183e+00 7.38905610e+00 2.00855369e+01 5.45981500e+01\n",
            " 1.48413159e+02 4.03428793e+02 1.09663316e+03 2.98095799e+03\n",
            " 8.10308393e+03]\n",
            "\n",
            "[0.         0.69314718 1.09861229 1.38629436 1.60943791 1.79175947\n",
            " 1.94591015 2.07944154 2.19722458]\n",
            "\n",
            "[0.         1.         1.5849625  2.         2.32192809 2.5849625\n",
            " 2.80735492 3.         3.169925  ]\n"
          ]
        }
      ]
    },
    {
      "cell_type": "markdown",
      "source": [
        "**Sum , min , max , ...**"
      ],
      "metadata": {
        "id": "NqvYkE6YnWVC"
      }
    },
    {
      "cell_type": "code",
      "source": [
        "sum_arr  = np.sum(arr1)\n",
        "max_arr = np.max(arr1)\n",
        "min_arr = np.min(arr1)\n",
        "sum_mat  = np.sum(mat)\n",
        "max_mat = np.max(mat)\n",
        "min_mat = np.min(mat)\n",
        "print(sum_arr,max_arr,min_arr,sum_mat,max_mat,min_mat,sep=\"\\n\\n\")"
      ],
      "metadata": {
        "colab": {
          "base_uri": "https://localhost:8080/"
        },
        "id": "LabbTC1JmQBR",
        "outputId": "99b8433f-851f-4e37-bc63-1d8e3260ff42"
      },
      "execution_count": 76,
      "outputs": [
        {
          "output_type": "stream",
          "name": "stdout",
          "text": [
            "45\n",
            "\n",
            "9\n",
            "\n",
            "1\n",
            "\n",
            "45\n",
            "\n",
            "9\n",
            "\n",
            "1\n"
          ]
        }
      ]
    },
    {
      "cell_type": "markdown",
      "source": [
        "## **Broadcasting**\n",
        "Rules of Broadcasting:\n",
        "\n",
        "• Rule 1: If the two arrays differ in their number of dimensions, the shape of the one with fewer dimensions is padded with ones on its leading (left) side.\n",
        "\n",
        "• Rule 2: If the shape of the two arrays does not match in any dimension, the array with shape equal to 1 in that dimension is stretched to match the other shape.\n",
        "\n",
        "• Rule 3: If in any dimension the sizes disagree and neither is equal to 1, an error is raised."
      ],
      "metadata": {
        "id": "4ty0zFI_Wqra"
      }
    },
    {
      "cell_type": "code",
      "source": [
        "v1= arr1[:3]\n",
        "print(v1,mat,\"vector shape :\", v1.shape , \"Matrix shape :\", mat.shape ,\"M + V :\", mat +v1 ,\"V - M :\", v1 -mat ,\"M -V : \", mat - v1,sep = \"\\n\\n\")"
      ],
      "metadata": {
        "colab": {
          "base_uri": "https://localhost:8080/"
        },
        "id": "UtI58eYaXIER",
        "outputId": "e8c87542-1089-49dc-fc5d-b9f3331e1083"
      },
      "execution_count": 77,
      "outputs": [
        {
          "output_type": "stream",
          "name": "stdout",
          "text": [
            "[1 2 3]\n",
            "\n",
            "[[1 2 3]\n",
            " [4 5 6]\n",
            " [7 8 9]]\n",
            "\n",
            "vector shape :\n",
            "\n",
            "(3,)\n",
            "\n",
            "Matrix shape :\n",
            "\n",
            "(3, 3)\n",
            "\n",
            "M + V :\n",
            "\n",
            "[[ 2  4  6]\n",
            " [ 5  7  9]\n",
            " [ 8 10 12]]\n",
            "\n",
            "V - M :\n",
            "\n",
            "[[ 0  0  0]\n",
            " [-3 -3 -3]\n",
            " [-6 -6 -6]]\n",
            "\n",
            "M -V : \n",
            "\n",
            "[[0 0 0]\n",
            " [3 3 3]\n",
            " [6 6 6]]\n"
          ]
        }
      ]
    },
    {
      "cell_type": "code",
      "source": [
        "print(arr1,mat,\"vector shape :\", arr1.shape , \"Matrix shape :\", mat.shape ,\"M + V :\", mat +arr1 ,sep = \"\\n\\n\") # error"
      ],
      "metadata": {
        "colab": {
          "base_uri": "https://localhost:8080/",
          "height": 165
        },
        "id": "jWVFoQaFXdXI",
        "outputId": "2e7d9881-2335-41ea-921d-c7247a68ed2a"
      },
      "execution_count": 78,
      "outputs": [
        {
          "output_type": "error",
          "ename": "ValueError",
          "evalue": "ignored",
          "traceback": [
            "\u001b[0;31m---------------------------------------------------------------------------\u001b[0m",
            "\u001b[0;31mValueError\u001b[0m                                Traceback (most recent call last)",
            "\u001b[0;32m<ipython-input-78-922d9c93bd20>\u001b[0m in \u001b[0;36m<module>\u001b[0;34m()\u001b[0m\n\u001b[0;32m----> 1\u001b[0;31m \u001b[0mprint\u001b[0m\u001b[0;34m(\u001b[0m\u001b[0marr1\u001b[0m\u001b[0;34m,\u001b[0m\u001b[0mmat\u001b[0m\u001b[0;34m,\u001b[0m\u001b[0;34m\"vector shape :\"\u001b[0m\u001b[0;34m,\u001b[0m \u001b[0marr1\u001b[0m\u001b[0;34m.\u001b[0m\u001b[0mshape\u001b[0m \u001b[0;34m,\u001b[0m \u001b[0;34m\"Matrix shape :\"\u001b[0m\u001b[0;34m,\u001b[0m \u001b[0mmat\u001b[0m\u001b[0;34m.\u001b[0m\u001b[0mshape\u001b[0m \u001b[0;34m,\u001b[0m\u001b[0;34m\"M + V :\"\u001b[0m\u001b[0;34m,\u001b[0m \u001b[0mmat\u001b[0m \u001b[0;34m+\u001b[0m\u001b[0marr1\u001b[0m \u001b[0;34m,\u001b[0m\u001b[0msep\u001b[0m \u001b[0;34m=\u001b[0m \u001b[0;34m\"\\n\\n\"\u001b[0m\u001b[0;34m)\u001b[0m \u001b[0;31m# error\u001b[0m\u001b[0;34m\u001b[0m\u001b[0;34m\u001b[0m\u001b[0m\n\u001b[0m",
            "\u001b[0;31mValueError\u001b[0m: operands could not be broadcast together with shapes (3,3) (9,) "
          ]
        }
      ]
    },
    {
      "cell_type": "markdown",
      "source": [
        "## **Comparison Operators and  Boolean Arrays** "
      ],
      "metadata": {
        "id": "Hm0VjsfJbSM4"
      }
    },
    {
      "cell_type": "code",
      "source": [
        "arr1"
      ],
      "metadata": {
        "colab": {
          "base_uri": "https://localhost:8080/"
        },
        "id": "vHbnAOitbUh0",
        "outputId": "b55070f1-ab9b-46b3-d71b-8fc4be7fd722"
      },
      "execution_count": 94,
      "outputs": [
        {
          "output_type": "execute_result",
          "data": {
            "text/plain": [
              "array([1, 2, 3, 4, 5, 6, 7, 8, 9])"
            ]
          },
          "metadata": {},
          "execution_count": 94
        }
      ]
    },
    {
      "cell_type": "code",
      "source": [
        "print(arr1>=4 , arr1 == 7, arr1 != 1,arr1**2 == arr1*4 ,sep= \"\\n _____________________________________\\n \")"
      ],
      "metadata": {
        "colab": {
          "base_uri": "https://localhost:8080/"
        },
        "id": "j6zBX8Kyb75w",
        "outputId": "5f2d4d3e-bfe1-469c-c54d-34d03d5d7a5f"
      },
      "execution_count": 95,
      "outputs": [
        {
          "output_type": "stream",
          "name": "stdout",
          "text": [
            "[False False False  True  True  True  True  True  True]\n",
            " _____________________________________\n",
            " [False False False False False False  True False False]\n",
            " _____________________________________\n",
            " [False  True  True  True  True  True  True  True  True]\n",
            " _____________________________________\n",
            " [False False False  True False False False False False]\n"
          ]
        }
      ]
    },
    {
      "cell_type": "code",
      "source": [
        "mat"
      ],
      "metadata": {
        "colab": {
          "base_uri": "https://localhost:8080/"
        },
        "id": "DuFcTX-gcRqm",
        "outputId": "930d577a-dbd7-4327-8f57-971c48215d9f"
      },
      "execution_count": 96,
      "outputs": [
        {
          "output_type": "execute_result",
          "data": {
            "text/plain": [
              "array([[1, 2, 3],\n",
              "       [4, 5, 6],\n",
              "       [7, 8, 9]])"
            ]
          },
          "metadata": {},
          "execution_count": 96
        }
      ]
    },
    {
      "cell_type": "code",
      "source": [
        "print(mat>=4 , mat == 7, mat != 1,mat**2 == mat*4 ,sep= \"\\n _____________________________________\\n \")"
      ],
      "metadata": {
        "colab": {
          "base_uri": "https://localhost:8080/"
        },
        "id": "xqqgP8HnculX",
        "outputId": "a9a2a0ca-66c1-4fed-b108-a7cda7377c11"
      },
      "execution_count": 97,
      "outputs": [
        {
          "output_type": "stream",
          "name": "stdout",
          "text": [
            "[[False False False]\n",
            " [ True  True  True]\n",
            " [ True  True  True]]\n",
            " _____________________________________\n",
            " [[False False False]\n",
            " [False False False]\n",
            " [ True False False]]\n",
            " _____________________________________\n",
            " [[False  True  True]\n",
            " [ True  True  True]\n",
            " [ True  True  True]]\n",
            " _____________________________________\n",
            " [[False False False]\n",
            " [ True False False]\n",
            " [False False False]]\n"
          ]
        }
      ]
    },
    {
      "cell_type": "code",
      "source": [
        "np.count_nonzero(arr1< 4) ,np.sum(arr1 < 7), np.any(arr1 == 4) , np.all(arr1 < 5)"
      ],
      "metadata": {
        "colab": {
          "base_uri": "https://localhost:8080/"
        },
        "id": "skDmFxj1c1XE",
        "outputId": "35af4ffd-0a32-4dd7-b22c-4f54614863ae"
      },
      "execution_count": 98,
      "outputs": [
        {
          "output_type": "execute_result",
          "data": {
            "text/plain": [
              "(3, 6, True, False)"
            ]
          },
          "metadata": {},
          "execution_count": 98
        }
      ]
    },
    {
      "cell_type": "code",
      "source": [
        "print(np.count_nonzero(mat< 4),\n",
        "np.sum(mat < 7),\n",
        " np.any(mat == 4) ,\n",
        " np.all(mat < 5) ,\n",
        "np.sum(mat < 7, axis = 0),\n",
        " np.sum(mat < 7, axis = 1),\n",
        " np.all(mat < 5, axis=0),\n",
        " np.any(mat < 5,axis =1) ,sep = \"\\n\\n\")"
      ],
      "metadata": {
        "colab": {
          "base_uri": "https://localhost:8080/"
        },
        "id": "_qMcEhYIdamZ",
        "outputId": "04e7de7a-50df-491e-adb9-26cdabb50e36"
      },
      "execution_count": 99,
      "outputs": [
        {
          "output_type": "stream",
          "name": "stdout",
          "text": [
            "3\n",
            "\n",
            "6\n",
            "\n",
            "True\n",
            "\n",
            "False\n",
            "\n",
            "[2 2 2]\n",
            "\n",
            "[3 3 0]\n",
            "\n",
            "[False False False]\n",
            "\n",
            "[ True  True False]\n"
          ]
        }
      ]
    },
    {
      "cell_type": "code",
      "source": [
        " np.all(mat < 5) &  np.any(mat == 4) , np.all(mat < 5) |  np.any(mat == 4), ~(np.all(mat < 5) |  np.any(mat == 4))"
      ],
      "metadata": {
        "colab": {
          "base_uri": "https://localhost:8080/"
        },
        "id": "Mscm1zQ5ecYd",
        "outputId": "c6e3e8ab-0fb1-4113-f77a-5828a3ce9e43"
      },
      "execution_count": 100,
      "outputs": [
        {
          "output_type": "execute_result",
          "data": {
            "text/plain": [
              "(False, True, False)"
            ]
          },
          "metadata": {},
          "execution_count": 100
        }
      ]
    },
    {
      "cell_type": "code",
      "source": [
        "[[i, bin(i),bool(i)] for i in arr1]  #The prefix 0b represents that the result is a binary string \n"
      ],
      "metadata": {
        "colab": {
          "base_uri": "https://localhost:8080/"
        },
        "id": "BrFN0Hmwgk21",
        "outputId": "5a917c29-3993-4e1a-a818-00a6a7ae66c8"
      },
      "execution_count": 101,
      "outputs": [
        {
          "output_type": "execute_result",
          "data": {
            "text/plain": [
              "[[1, '0b1', True],\n",
              " [2, '0b10', True],\n",
              " [3, '0b11', True],\n",
              " [4, '0b100', True],\n",
              " [5, '0b101', True],\n",
              " [6, '0b110', True],\n",
              " [7, '0b111', True],\n",
              " [8, '0b1000', True],\n",
              " [9, '0b1001', True]]"
            ]
          },
          "metadata": {},
          "execution_count": 101
        }
      ]
    },
    {
      "cell_type": "code",
      "source": [
        "arr1 ^ 3 # https://www.khanacademy.org/computing/computer-science/cryptography/ciphers/a/xor-bitwise-operation"
      ],
      "metadata": {
        "colab": {
          "base_uri": "https://localhost:8080/"
        },
        "id": "l3vqhKxOfe_W",
        "outputId": "71be4340-c037-40c9-945f-d386e384eee3"
      },
      "execution_count": 102,
      "outputs": [
        {
          "output_type": "execute_result",
          "data": {
            "text/plain": [
              "array([ 2,  1,  0,  7,  6,  5,  4, 11, 10])"
            ]
          },
          "metadata": {},
          "execution_count": 102
        }
      ]
    },
    {
      "cell_type": "code",
      "source": [
        "mat [mat > 7], arr1[arr1 != 0]"
      ],
      "metadata": {
        "colab": {
          "base_uri": "https://localhost:8080/"
        },
        "id": "plhslByphDy9",
        "outputId": "90ba5eb5-d77a-4b6c-f846-0a354f9b69ba"
      },
      "execution_count": 103,
      "outputs": [
        {
          "output_type": "execute_result",
          "data": {
            "text/plain": [
              "(array([8, 9]), array([1, 2, 3, 4, 5, 6, 7, 8, 9]))"
            ]
          },
          "metadata": {},
          "execution_count": 103
        }
      ]
    },
    {
      "cell_type": "code",
      "source": [
        "#np.partition takes an array and a number K; the result is a new array with the small‐est K values to the left of the partition, \n",
        "#and the remaining values to the right, in arbi‐trary order:\n",
        "arr_p = np.array([3,5,6,8,1,0,4,3,7,2,0,10])\n",
        "np.partition(arr_p,2)"
      ],
      "metadata": {
        "colab": {
          "base_uri": "https://localhost:8080/"
        },
        "id": "w26XoxmelSd-",
        "outputId": "0ee99280-6a5f-4246-b9bf-2436f33de194"
      },
      "execution_count": 104,
      "outputs": [
        {
          "output_type": "execute_result",
          "data": {
            "text/plain": [
              "array([ 0,  0,  1,  8,  6,  3,  4,  3,  7,  2,  5, 10])"
            ]
          },
          "metadata": {},
          "execution_count": 104
        }
      ]
    },
    {
      "cell_type": "code",
      "source": [
        " matA = np.matrix([[3,0,1,2,5,87],\n",
        "                   [3,5,8,1,10,2],\n",
        "                   [0,12,3,5,7,0]])\n",
        " print(np.partition(matA, 2, axis=0), np.partition(matA, 2, axis=1),sep=\"\\n _________________________________________\\n\") "
      ],
      "metadata": {
        "id": "18ttS4Fj_sG2",
        "colab": {
          "base_uri": "https://localhost:8080/"
        },
        "outputId": "c00405d4-8202-497f-a535-3790225563e9"
      },
      "execution_count": 105,
      "outputs": [
        {
          "output_type": "stream",
          "name": "stdout",
          "text": [
            "[[ 0  0  1  1  5  0]\n",
            " [ 3  5  3  2  7  2]\n",
            " [ 3 12  8  5 10 87]]\n",
            " _________________________________________\n",
            "[[ 0  1  2  3  5 87]\n",
            " [ 1  2  3  8 10  5]\n",
            " [ 0  0  3  5  7 12]]\n"
          ]
        }
      ]
    },
    {
      "cell_type": "code",
      "source": [
        " np.partition(matA, 2, axis=0)"
      ],
      "metadata": {
        "colab": {
          "base_uri": "https://localhost:8080/"
        },
        "id": "NXmduUwueVwr",
        "outputId": "4d6b5930-b8a3-4213-a35b-24d59f22d043"
      },
      "execution_count": 106,
      "outputs": [
        {
          "output_type": "execute_result",
          "data": {
            "text/plain": [
              "matrix([[ 0,  0,  1,  1,  5,  0],\n",
              "        [ 3,  5,  3,  2,  7,  2],\n",
              "        [ 3, 12,  8,  5, 10, 87]])"
            ]
          },
          "metadata": {},
          "execution_count": 106
        }
      ]
    },
    {
      "cell_type": "markdown",
      "source": [
        "**Array Generation by repeatition**"
      ],
      "metadata": {
        "id": "Bc2xPKVafPry"
      }
    },
    {
      "cell_type": "code",
      "source": [
        "m= np.array([[1,2,3],\n",
        "              [4,5,6]])\n",
        "np.tile(m,6) "
      ],
      "metadata": {
        "colab": {
          "base_uri": "https://localhost:8080/"
        },
        "id": "ZV9i8qp0eaPt",
        "outputId": "8a5fc8dd-251a-4d62-d035-2a22eba74ed8"
      },
      "execution_count": 107,
      "outputs": [
        {
          "output_type": "execute_result",
          "data": {
            "text/plain": [
              "array([[1, 2, 3, 1, 2, 3, 1, 2, 3, 1, 2, 3, 1, 2, 3, 1, 2, 3],\n",
              "       [4, 5, 6, 4, 5, 6, 4, 5, 6, 4, 5, 6, 4, 5, 6, 4, 5, 6]])"
            ]
          },
          "metadata": {},
          "execution_count": 107
        }
      ]
    },
    {
      "cell_type": "markdown",
      "source": [
        "## **Matrices Operations**\n"
      ],
      "metadata": {
        "id": "qTr6DGudfzjn"
      }
    },
    {
      "cell_type": "markdown",
      "source": [
        "\n",
        "[Multiplying](https://www.khanacademy.org/math/precalculus/x9e81a4f98389efdf:matrices/x9e81a4f98389efdf:multiplying-matrices-by-matrices/a/multiplying-matrices)\n",
        "\n",
        "\n",
        "[Transposing](https://www.khanacademy.org/math/linear-algebra/matrix-transformations/matrix-transpose/v/linear-algebra-transpose-of-a-matrix)\n",
        "\n",
        "**Systems of Equations:**\n",
        "\n",
        "[Representing ](https://www.khanacademy.org/math/precalculus/x9e81a4f98389efdf:matrices/x9e81a4f98389efdf:representing-systems-with-matrices/v/representing-systems-of-equations-with-matrices)\n",
        "\n",
        "\n",
        "[Solving](https://www.khanacademy.org/math/precalculus/x9e81a4f98389efdf:matrices/x9e81a4f98389efdf:solving-equations-with-inverse-matrices/v/solving-matrix-equation)\n",
        "\n",
        "[Eigenvalues](https://www.khanacademy.org/math/linear-algebra/alternate-bases/eigen-everything/v/linear-algebra-introduction-to-eigenvalues-and-eigenvectors)"
      ],
      "metadata": {
        "id": "Xej-7gybpznD"
      }
    },
    {
      "cell_type": "code",
      "source": [
        "\n",
        "\n",
        "A = np.array([[-5 , 1, -2],\n",
        "              [-33, 6, -14],\n",
        "              [17 ,-3 ,7]])\n",
        "\n",
        "B = np.array([[2,3,4],\n",
        "              [5,6,7],\n",
        "              [8,9,10]])\n",
        "b=np.array([5,-7,9])\n",
        "\"\"\"\n",
        "-5x+ y -2z = 5\n",
        "-33x + 6y -14z = -7\n",
        "17x -3y + 7z = 9\n",
        "\n",
        "\"\"\"\n",
        "b=np.array([5,-7,9])\n",
        "\n",
        "\n",
        "print(\"A.B =\", A@B ,\"A  Transpose =\",A.T ,\"Systems of Equations Solution :\",np.linalg.solve(A,b),\"Eigenvalues:\",np.linalg.eig(A),sep =\"\\n \\n\" )\n"
      ],
      "metadata": {
        "colab": {
          "base_uri": "https://localhost:8080/"
        },
        "id": "BbH8udC6fhuN",
        "outputId": "21c87eff-8e58-425e-a6ee-aae031ea1926"
      },
      "execution_count": 91,
      "outputs": [
        {
          "output_type": "stream",
          "name": "stdout",
          "text": [
            "A.B =\n",
            " \n",
            "[[ -21  -27  -33]\n",
            " [-148 -189 -230]\n",
            " [  75   96  117]]\n",
            " \n",
            "A  Transpose =\n",
            " \n",
            "[[ -5 -33  17]\n",
            " [  1   6  -3]\n",
            " [ -2 -14   7]]\n",
            " \n",
            "Systems of Equations Solution :\n",
            " \n",
            "[11. 64.  2.]\n",
            " \n",
            "Eigenvalues:\n",
            " \n",
            "(array([ 7.72431722,  0.52314845, -0.24746567]), array([[-0.13838355, -0.25291132, -0.4096354 ],\n",
            "       [-0.88937573, -0.94015381, -0.14574208],\n",
            "       [ 0.43573021,  0.22835649,  0.90053211]]))\n"
          ]
        }
      ]
    },
    {
      "cell_type": "code",
      "source": [
        "#Calculus\n",
        "x = np.linspace(0, 10, 100)\n",
        "y =  np.sinh(1/np.exp(x))\n",
        "y_prime = np.gradient(y,x)\n",
        "y_integral = np.cumsum(y) * (x[1]-x[0])"
      ],
      "metadata": {
        "id": "koFFzuJJgCDU"
      },
      "execution_count": 92,
      "outputs": []
    },
    {
      "cell_type": "code",
      "source": [
        "plt.plot(y)\n",
        "plt.plot(y_prime)\n",
        "plt.plot(y_integral)"
      ],
      "metadata": {
        "colab": {
          "base_uri": "https://localhost:8080/",
          "height": 282
        },
        "id": "fWHs_tpli_YR",
        "outputId": "e8b1aef5-5054-4e1c-f35d-75a4c8e9a5c0"
      },
      "execution_count": 93,
      "outputs": [
        {
          "output_type": "execute_result",
          "data": {
            "text/plain": [
              "[<matplotlib.lines.Line2D at 0x7ff852f1f350>]"
            ]
          },
          "metadata": {},
          "execution_count": 93
        },
        {
          "output_type": "display_data",
          "data": {
            "text/plain": [
              "<Figure size 432x288 with 1 Axes>"
            ],
            "image/png": "[encoded data removed]"
          },
          "metadata": {
            "needs_background": "light"
          }
        }
      ]
    },
    {
      "cell_type": "markdown",
      "source": [
        "## **NumPy : Simple Project**"
      ],
      "metadata": {
        "id": "n3OrW_C9ziUS"
      }
    },
    {
      "cell_type": "code",
      "source": [
        "data = pd.read_csv(\"https://raw.githubusercontent.com/MahmoudTabasi/NumPy-Tutorial/main/Salary_Data.csv\")\n"
      ],
      "metadata": {
        "id": "6xX6ooInzqi5"
      },
      "execution_count": 79,
      "outputs": []
    },
    {
      "cell_type": "code",
      "source": [
        "salary = np.array(data[\"Salary\"])\n",
        "YearsExperience = np.array(data[\"YearsExperience\"])\n",
        "salary"
      ],
      "metadata": {
        "id": "qFSOYPyD1Yr2",
        "colab": {
          "base_uri": "https://localhost:8080/"
        },
        "outputId": "4e061e56-1e1e-494b-9fd6-b452d249e329"
      },
      "execution_count": 80,
      "outputs": [
        {
          "output_type": "execute_result",
          "data": {
            "text/plain": [
              "array([ 39343.,  46205.,  37731.,  43525.,  39891.,  56642.,  60150.,\n",
              "        54445.,  64445.,  57189.,  63218.,  55794.,  56957.,  57081.,\n",
              "        61111.,  67938.,  66029.,  83088.,  81363.,  93940.,  91738.,\n",
              "        98273., 101302., 113812., 109431., 105582., 116969., 112635.,\n",
              "       122391., 121872.])"
            ]
          },
          "metadata": {},
          "execution_count": 80
        }
      ]
    },
    {
      "cell_type": "code",
      "source": [
        "print(\"Mean Salary: \", salary.mean())\n",
        "print(\"Standard deviation:\", salary.std())\n",
        "print(\"Maximum Salary: \", salary.max())\n",
        "print(\"Minimum Salary: \", salary.min())\n",
        "print(\"25th percentile: \", np.percentile(salary, 25))\n",
        "print(\"Median: \", np.median(salary))\n",
        "print(\"75th percentile: \", np.percentile(salary, 75))"
      ],
      "metadata": {
        "id": "gQmvO1KJ1ZqN",
        "colab": {
          "base_uri": "https://localhost:8080/"
        },
        "outputId": "5be6395e-67c8-4fab-e6b5-5abbba30eb9a"
      },
      "execution_count": 81,
      "outputs": [
        {
          "output_type": "stream",
          "name": "stdout",
          "text": [
            "Mean Salary:  76003.0\n",
            "Standard deviation: 26953.65024877583\n",
            "Maximum Salary:  122391.0\n",
            "Minimum Salary:  37731.0\n",
            "25th percentile:  56720.75\n",
            "Median:  65237.0\n",
            "75th percentile:  100544.75\n"
          ]
        }
      ]
    },
    {
      "cell_type": "code",
      "source": [
        "plt.scatter(salary,YearsExperience)"
      ],
      "metadata": {
        "id": "NdHCpbD6114d",
        "colab": {
          "base_uri": "https://localhost:8080/",
          "height": 282
        },
        "outputId": "c1493502-4d01-4bad-afef-d5aadbb75536"
      },
      "execution_count": 82,
      "outputs": [
        {
          "output_type": "execute_result",
          "data": {
            "text/plain": [
              "<matplotlib.collections.PathCollection at 0x7ff85bce0cd0>"
            ]
          },
          "metadata": {},
          "execution_count": 82
        },
        {
          "output_type": "display_data",
          "data": {
            "text/plain": [
              "<Figure size 432x288 with 1 Axes>"
            ],
            "image/png": "[encoded data removed]"
          },
          "metadata": {
            "needs_background": "light"
          }
        }
      ]
    },
    {
      "cell_type": "markdown",
      "source": [
        "**Plotting a two-dimensional function**"
      ],
      "metadata": {
        "id": "N0g69pB1afe2"
      }
    },
    {
      "cell_type": "code",
      "source": [
        "dom = np.linspace(-9, 3, 105)\n",
        "dom1 = np.linspace(-9, 3, 105)[:, np.newaxis]\n",
        "fun = np.sin(np.exp(dom1*dom)) \n"
      ],
      "metadata": {
        "id": "igCkYnwi2kkw"
      },
      "execution_count": 83,
      "outputs": []
    },
    {
      "cell_type": "code",
      "source": [
        "fun[3:4]"
      ],
      "metadata": {
        "id": "rxo4SMfocxqC",
        "colab": {
          "base_uri": "https://localhost:8080/"
        },
        "outputId": "6efef878-4df6-4903-fd30-07ab368e1560"
      },
      "execution_count": 84,
      "outputs": [
        {
          "output_type": "execute_result",
          "data": {
            "text/plain": [
              "array([[ 9.62962586e-01, -9.27873891e-01, -7.98264510e-01,\n",
              "         9.98612745e-01,  3.95844397e-01,  6.70366214e-01,\n",
              "        -9.53693956e-01, -9.84621185e-01,  4.26826683e-03,\n",
              "        -9.99849268e-01,  8.07647365e-01, -7.59485539e-01,\n",
              "        -8.02744562e-01, -8.93488658e-01, -9.10430102e-01,\n",
              "        -6.51232821e-01,  9.97837038e-01, -7.93860901e-01,\n",
              "        -9.90211803e-01,  5.48126574e-01, -8.46517679e-01,\n",
              "         9.46556537e-01,  9.95835186e-01,  9.73509487e-01,\n",
              "        -4.74445443e-01, -5.93447069e-01,  5.42787843e-01,\n",
              "         6.39085428e-01,  1.88343247e-01,  8.03327713e-01,\n",
              "        -8.80554624e-01, -9.30862471e-01, -9.86214949e-01,\n",
              "         2.75342869e-01, -6.33266623e-01,  7.48765277e-01,\n",
              "         9.89278994e-01,  8.96495861e-01, -6.95243786e-01,\n",
              "        -2.40104209e-01,  9.98075795e-01, -9.01058334e-01,\n",
              "         2.27993208e-02, -8.45461462e-01,  7.31681179e-01,\n",
              "        -9.99887676e-01,  1.93344024e-01, -7.52297213e-01,\n",
              "        -1.80890614e-01, -6.38686937e-02, -1.85525679e-01,\n",
              "        -4.80840652e-01, -7.98577817e-01, -8.24845057e-01,\n",
              "        -4.37089786e-01,  2.93093214e-01,  6.44398328e-01,\n",
              "         9.09525989e-01, -9.93884445e-01,  8.72166019e-01,\n",
              "         9.94617136e-01,  4.02168309e-01, -7.63943765e-01,\n",
              "        -9.95901142e-01,  9.94295313e-01,  7.41381594e-01,\n",
              "         2.11216507e-01,  2.58494182e-01,  7.87434272e-01,\n",
              "        -5.34822409e-01, -7.98987195e-01, -9.96458917e-01,\n",
              "        -7.71783691e-01,  3.29124641e-01, -7.63659763e-01,\n",
              "         9.11551438e-01,  8.83855700e-01,  4.14441452e-01,\n",
              "         8.41470985e-01,  3.60145677e-01,  1.35319852e-01,\n",
              "         4.99876665e-02,  1.84232944e-02,  6.78791652e-03,\n",
              "         2.50084825e-03,  9.21373458e-04,  3.39456177e-04,\n",
              "         1.25063820e-04,  4.60765184e-05,  1.69756972e-05,\n",
              "         6.25425503e-06,  2.30421793e-06,  8.48929290e-07,\n",
              "         3.12765962e-07,  1.15230501e-07,  4.24536871e-08,\n",
              "         1.56409591e-08,  5.76250540e-09,  2.12304555e-09,\n",
              "         7.82181026e-10,  2.88174297e-10,  1.06170340e-10,\n",
              "         3.91157060e-11,  1.44111666e-11,  5.30942028e-12]])"
            ]
          },
          "metadata": {},
          "execution_count": 84
        }
      ]
    },
    {
      "cell_type": "code",
      "source": [
        "import matplotlib.pyplot as plt\n",
        "plt.imshow(fun, origin='lower', extent=[0, 5, 0, 5],\n",
        "cmap='viridis')\n",
        "plt.colorbar();"
      ],
      "metadata": {
        "id": "tI0XZ2uIdEsi",
        "colab": {
          "base_uri": "https://localhost:8080/",
          "height": 269
        },
        "outputId": "7b515d96-a1a1-4a6e-e1f5-993df2fddf4d"
      },
      "execution_count": 85,
      "outputs": [
        {
          "output_type": "display_data",
          "data": {
            "text/plain": [
              "<Figure size 432x288 with 2 Axes>"
            ],
            "image/png": "[encoded data removed]"
          },
          "metadata": {
            "needs_background": "light"
          }
        }
      ]
    },
    {
      "cell_type": "code",
      "source": [
        "fig = plt.figure()\n",
        "ax = plt.axes(projection='3d')\n",
        "ax.contour3D(np.linspace(-9, 3, 105),np.linspace(-9, 3, 105), fun, 50, cmap='binary')\n",
        "ax.set_xlabel('x')\n",
        "ax.set_ylabel('y')\n",
        "ax.set_zlabel('z');"
      ],
      "metadata": {
        "id": "rUZJkMX1_bVT",
        "colab": {
          "base_uri": "https://localhost:8080/",
          "height": 302
        },
        "outputId": "68a096f4-8560-4c1d-a1f2-538e9873aadf"
      },
      "execution_count": 86,
      "outputs": [
        {
          "output_type": "stream",
          "name": "stderr",
          "text": [
            "/usr/local/lib/python3.7/dist-packages/mpl_toolkits/mplot3d/art3d.py:304: VisibleDeprecationWarning: Creating an ndarray from ragged nested sequences (which is a list-or-tuple of lists-or-tuples-or ndarrays with different lengths or shapes) is deprecated. If you meant to do this, you must specify 'dtype=object' when creating the ndarray.\n",
            "  self._segments3d = np.asanyarray(segments)\n"
          ]
        },
        {
          "output_type": "display_data",
          "data": {
            "text/plain": [
              "<Figure size 432x288 with 1 Axes>"
            ],
            "image/png": "[encoded data removed]"
          },
          "metadata": {
            "needs_background": "light"
          }
        }
      ]
    },
    {
      "cell_type": "code",
      "source": [
        "a= np.linspace(3, 15, 4)\n",
        "b= np.linspace(3, 15, 4)[:, np.newaxis]\n",
        "a"
      ],
      "metadata": {
        "id": "evbuVw9j_uW3",
        "colab": {
          "base_uri": "https://localhost:8080/"
        },
        "outputId": "94eed042-8cd3-4a71-abd8-f7399a49ba9c"
      },
      "execution_count": 87,
      "outputs": [
        {
          "output_type": "execute_result",
          "data": {
            "text/plain": [
              "array([ 3.,  7., 11., 15.])"
            ]
          },
          "metadata": {},
          "execution_count": 87
        }
      ]
    },
    {
      "cell_type": "code",
      "source": [
        "b"
      ],
      "metadata": {
        "id": "vPRnV8WdAp1k",
        "colab": {
          "base_uri": "https://localhost:8080/"
        },
        "outputId": "7f26bd5f-8287-46fb-875d-546699124758"
      },
      "execution_count": 88,
      "outputs": [
        {
          "output_type": "execute_result",
          "data": {
            "text/plain": [
              "array([[ 3.],\n",
              "       [ 7.],\n",
              "       [11.],\n",
              "       [15.]])"
            ]
          },
          "metadata": {},
          "execution_count": 88
        }
      ]
    },
    {
      "cell_type": "code",
      "source": [
        "a*b"
      ],
      "metadata": {
        "id": "ubumL_TrmIav",
        "colab": {
          "base_uri": "https://localhost:8080/"
        },
        "outputId": "a99016a4-b577-466b-d1bc-2ef3699d70ee"
      },
      "execution_count": 89,
      "outputs": [
        {
          "output_type": "execute_result",
          "data": {
            "text/plain": [
              "array([[  9.,  21.,  33.,  45.],\n",
              "       [ 21.,  49.,  77., 105.],\n",
              "       [ 33.,  77., 121., 165.],\n",
              "       [ 45., 105., 165., 225.]])"
            ]
          },
          "metadata": {},
          "execution_count": 89
        }
      ]
    },
    {
      "cell_type": "code",
      "source": [
        "plt.imshow(b*np.sin(np.pi*a), origin='lower', extent=[0, 5, 0, 5],\n",
        "cmap='viridis')\n",
        "plt.colorbar();"
      ],
      "metadata": {
        "id": "4VLV6GJnmbAY",
        "colab": {
          "base_uri": "https://localhost:8080/",
          "height": 276
        },
        "outputId": "f1fefbf0-81aa-4474-f00d-e867327c8e72"
      },
      "execution_count": 90,
      "outputs": [
        {
          "output_type": "display_data",
          "data": {
            "text/plain": [
              "<Figure size 432x288 with 2 Axes>"
            ],
            "image/png": "[encoded data removed]"
          },
          "metadata": {
            "needs_background": "light"
          }
        }
      ]
    }
  ]
}