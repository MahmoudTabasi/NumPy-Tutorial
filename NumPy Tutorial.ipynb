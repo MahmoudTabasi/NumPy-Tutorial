{
  "nbformat": 4,
  "nbformat_minor": 0,
  "metadata": {
    "colab": {
      "name": "NumPy",
      "provenance": []
    },
    "kernelspec": {
      "name": "python3",
      "display_name": "Python 3"
    },
    "language_info": {
      "name": "python"
    }
  },
  "cells": [
    {
      "cell_type": "code",
      "execution_count": 1,
      "metadata": {
        "id": "GDblZ28RixTQ"
      },
      "outputs": [],
      "source": [
        "import numpy  as np \n",
        "import pandas as pd\n",
        "import matplotlib.pyplot as plt"
      ]
    },
    {
      "cell_type": "markdown",
      "source": [
        "## **Basics of arrays**"
      ],
      "metadata": {
        "id": "F6mpRkHou0GQ"
      }
    },
    {
      "cell_type": "code",
      "source": [
        "#creat an array from a list:\n",
        "arr1=np.array([1,2,3,4,5,6,7,8,9])\n",
        "arr1"
      ],
      "metadata": {
        "colab": {
          "base_uri": "https://localhost:8080/"
        },
        "id": "oWUqxVStjsY4",
        "outputId": "a74907b9-a05c-4d5b-8368-735b6160a471"
      },
      "execution_count": null,
      "outputs": [
        {
          "output_type": "execute_result",
          "data": {
            "text/plain": [
              "array([1, 2, 3, 4, 5, 6, 7, 8, 9])"
            ]
          },
          "metadata": {},
          "execution_count": 2
        }
      ]
    },
    {
      "cell_type": "code",
      "source": [
        "#can we have array with different data type?!\n",
        "arr2 = np.array([0,1.2,2,3.14])\n",
        "arr2"
      ],
      "metadata": {
        "colab": {
          "base_uri": "https://localhost:8080/"
        },
        "id": "r6QEtHyskBic",
        "outputId": "33ab67eb-2616-46a5-ef30-d1ba73ca3ade"
      },
      "execution_count": null,
      "outputs": [
        {
          "output_type": "execute_result",
          "data": {
            "text/plain": [
              "array([0.  , 1.2 , 2.  , 3.14])"
            ]
          },
          "metadata": {},
          "execution_count": 3
        }
      ]
    },
    {
      "cell_type": "code",
      "source": [
        "#Note that we got an array with float data type\n",
        "[type(item) for item in arr2]"
      ],
      "metadata": {
        "colab": {
          "base_uri": "https://localhost:8080/"
        },
        "id": "uoPikBawluPi",
        "outputId": "ced99b47-0a85-4d0b-cb24-01ede8b530c5"
      },
      "execution_count": null,
      "outputs": [
        {
          "output_type": "execute_result",
          "data": {
            "text/plain": [
              "[numpy.float64, numpy.float64, numpy.float64, numpy.float64]"
            ]
          },
          "metadata": {},
          "execution_count": 4
        }
      ]
    },
    {
      "cell_type": "code",
      "source": [
        "#So how we can contain more than one data type in an array?\n",
        "#we can use np.concatenate\n",
        "arr3 = np.array([\"A\",\"B\",\"C\"])\n",
        "arr4 = np.concatenate((arr1, arr3))\n",
        "arr4"
      ],
      "metadata": {
        "colab": {
          "base_uri": "https://localhost:8080/"
        },
        "id": "lwhcmj_qmD3Q",
        "outputId": "5f778517-1700-4bbe-eb1e-7b7ea91208cb"
      },
      "execution_count": null,
      "outputs": [
        {
          "output_type": "execute_result",
          "data": {
            "text/plain": [
              "array(['1', '2', '3', '4', '5', '6', '7', '8', '9', 'A', 'B', 'C'],\n",
              "      dtype='<U21')"
            ]
          },
          "metadata": {},
          "execution_count": 5
        }
      ]
    },
    {
      "cell_type": "code",
      "source": [
        "# multidimensional arrays \n",
        "arr5 = np.array([[1,2,3],\n",
        "                [4,5,6],\n",
        "                [7,8,9]] )\n",
        "arr6 =np.array([range(i,i+3) for i in [1,4,7]])\n",
        "print(arr5, arr6,sep=\"\\n*******\\n\")"
      ],
      "metadata": {
        "colab": {
          "base_uri": "https://localhost:8080/"
        },
        "id": "d1C3N8_vmyyS",
        "outputId": "2407ff71-b927-437b-dc63-d4827d6cbf69"
      },
      "execution_count": null,
      "outputs": [
        {
          "output_type": "stream",
          "name": "stdout",
          "text": [
            "[[1 2 3]\n",
            " [4 5 6]\n",
            " [7 8 9]]\n",
            "*******\n",
            "[[1 2 3]\n",
            " [4 5 6]\n",
            " [7 8 9]]\n"
          ]
        }
      ]
    },
    {
      "cell_type": "markdown",
      "source": [
        "## **Special Types of Arrays**"
      ],
      "metadata": {
        "id": "Puu9eN1cs2V_"
      }
    },
    {
      "cell_type": "code",
      "source": [
        "#zeros array\n",
        "np.zeros(10,dtype=int)"
      ],
      "metadata": {
        "colab": {
          "base_uri": "https://localhost:8080/"
        },
        "id": "fEs263cppAT_",
        "outputId": "d726e7bc-2fb8-472d-ce30-118105bfd42f"
      },
      "execution_count": null,
      "outputs": [
        {
          "output_type": "execute_result",
          "data": {
            "text/plain": [
              "array([0, 0, 0, 0, 0, 0, 0, 0, 0, 0])"
            ]
          },
          "metadata": {},
          "execution_count": 7
        }
      ]
    },
    {
      "cell_type": "code",
      "source": [
        "#ones array\n",
        "np.ones((4,4))"
      ],
      "metadata": {
        "colab": {
          "base_uri": "https://localhost:8080/"
        },
        "id": "BjVGfaZ5sa-I",
        "outputId": "30fca7a5-ba1c-41cf-f7fa-0f7f9f59fd31"
      },
      "execution_count": null,
      "outputs": [
        {
          "output_type": "execute_result",
          "data": {
            "text/plain": [
              "array([[1., 1., 1., 1.],\n",
              "       [1., 1., 1., 1.],\n",
              "       [1., 1., 1., 1.],\n",
              "       [1., 1., 1., 1.]])"
            ]
          },
          "metadata": {},
          "execution_count": 8
        }
      ]
    },
    {
      "cell_type": "code",
      "source": [
        "#filled with a number array \n",
        "np.full((3,2),2.72)"
      ],
      "metadata": {
        "colab": {
          "base_uri": "https://localhost:8080/"
        },
        "id": "hUhd2baXseMH",
        "outputId": "d22bee71-9117-4c50-f26c-2e65d7eeb81f"
      },
      "execution_count": null,
      "outputs": [
        {
          "output_type": "execute_result",
          "data": {
            "text/plain": [
              "array([[2.72, 2.72],\n",
              "       [2.72, 2.72],\n",
              "       [2.72, 2.72]])"
            ]
          },
          "metadata": {},
          "execution_count": 9
        }
      ]
    },
    {
      "cell_type": "code",
      "source": [
        "#linear sequence array \n",
        "np.arange(10,100,10) #np.arange(statr , end , steps)"
      ],
      "metadata": {
        "colab": {
          "base_uri": "https://localhost:8080/"
        },
        "id": "s1tHUtTfsg6_",
        "outputId": "0f67b999-0b35-43e6-e2bd-8cf8abcecf11"
      },
      "execution_count": null,
      "outputs": [
        {
          "output_type": "execute_result",
          "data": {
            "text/plain": [
              "array([10, 20, 30, 40, 50, 60, 70, 80, 90])"
            ]
          },
          "metadata": {},
          "execution_count": 10
        }
      ]
    },
    {
      "cell_type": "code",
      "source": [
        "np.arange(10,100,10).reshape(3,3)"
      ],
      "metadata": {
        "colab": {
          "base_uri": "https://localhost:8080/"
        },
        "id": "F07VH-7EuBcZ",
        "outputId": "7891009e-f9aa-4a6e-b94b-99fbec38f306"
      },
      "execution_count": null,
      "outputs": [
        {
          "output_type": "execute_result",
          "data": {
            "text/plain": [
              "array([[10, 20, 30],\n",
              "       [40, 50, 60],\n",
              "       [70, 80, 90]])"
            ]
          },
          "metadata": {},
          "execution_count": 11
        }
      ]
    },
    {
      "cell_type": "code",
      "source": [
        "# values between tow numbers array\n",
        "np.linspace(2.72,3.14,7) #np.linspace(1st num , 2nd num , number of vlaues)"
      ],
      "metadata": {
        "colab": {
          "base_uri": "https://localhost:8080/"
        },
        "id": "Q0qdFoLqskz-",
        "outputId": "59228758-1753-4fe1-dc48-4667b7bc01d3"
      },
      "execution_count": null,
      "outputs": [
        {
          "output_type": "execute_result",
          "data": {
            "text/plain": [
              "array([2.72, 2.79, 2.86, 2.93, 3.  , 3.07, 3.14])"
            ]
          },
          "metadata": {},
          "execution_count": 12
        }
      ]
    },
    {
      "cell_type": "code",
      "source": [
        "# uniformly distributed array (random values between 0 and 1)\n",
        "np.random.random((4,4))"
      ],
      "metadata": {
        "colab": {
          "base_uri": "https://localhost:8080/"
        },
        "id": "K4kxMyHbskxB",
        "outputId": "99dc9aa1-a265-481e-fd99-cff844ac0541"
      },
      "execution_count": null,
      "outputs": [
        {
          "output_type": "execute_result",
          "data": {
            "text/plain": [
              "array([[0.28759005, 0.61369723, 0.40428857, 0.28033482],\n",
              "       [0.82147761, 0.35120961, 0.67104859, 0.10077603],\n",
              "       [0.22729086, 0.26393365, 0.90968157, 0.1117615 ],\n",
              "       [0.40111577, 0.37922543, 0.29563967, 0.3067917 ]])"
            ]
          },
          "metadata": {},
          "execution_count": 13
        }
      ]
    },
    {
      "cell_type": "code",
      "source": [
        "#normally distributed array (andom values with mean 0 and standard deviation 1)\n",
        "np.random.normal(0,1,(4,4))"
      ],
      "metadata": {
        "colab": {
          "base_uri": "https://localhost:8080/"
        },
        "id": "iYmbwBV5skuU",
        "outputId": "1c091ec7-8a50-4b47-9d3d-84e01af0702d"
      },
      "execution_count": null,
      "outputs": [
        {
          "output_type": "execute_result",
          "data": {
            "text/plain": [
              "array([[-0.33828769,  0.71757146,  0.76015338, -1.30192034],\n",
              "       [-0.52450228, -1.11447436,  0.0911794 ,  0.88932128],\n",
              "       [-1.22402546,  0.63297574, -1.0054958 ,  1.65221383],\n",
              "       [-1.77913642, -0.18885331,  1.15517977, -0.30464644]])"
            ]
          },
          "metadata": {},
          "execution_count": 14
        }
      ]
    },
    {
      "cell_type": "code",
      "source": [
        "# random integers in an interval [a,b]\n",
        "np.random.randint(13,27,(2,2)) #  np.random.randint(a,b,size)"
      ],
      "metadata": {
        "colab": {
          "base_uri": "https://localhost:8080/"
        },
        "id": "fjxkxz79skq_",
        "outputId": "948387e2-9958-4724-81d3-c37348666c84"
      },
      "execution_count": null,
      "outputs": [
        {
          "output_type": "execute_result",
          "data": {
            "text/plain": [
              "array([[14, 19],\n",
              "       [16, 24]])"
            ]
          },
          "metadata": {},
          "execution_count": 15
        }
      ]
    },
    {
      "cell_type": "code",
      "source": [
        "#identity matrix \n",
        "np.eye(5)"
      ],
      "metadata": {
        "colab": {
          "base_uri": "https://localhost:8080/"
        },
        "id": "290Qh2KNskgI",
        "outputId": "efcc91e2-b4da-4ca7-846c-462c2bc40906"
      },
      "execution_count": null,
      "outputs": [
        {
          "output_type": "execute_result",
          "data": {
            "text/plain": [
              "array([[1., 0., 0., 0., 0.],\n",
              "       [0., 1., 0., 0., 0.],\n",
              "       [0., 0., 1., 0., 0.],\n",
              "       [0., 0., 0., 1., 0.],\n",
              "       [0., 0., 0., 0., 1.]])"
            ]
          },
          "metadata": {},
          "execution_count": 16
        }
      ]
    },
    {
      "cell_type": "code",
      "source": [
        "#empty matrix , Return a new array of given shape and type, without initializing entries.\n",
        "np.empty(3) "
      ],
      "metadata": {
        "colab": {
          "base_uri": "https://localhost:8080/"
        },
        "id": "HSbd_ySYsjcH",
        "outputId": "1c8b06e7-8958-4a3b-8ba1-2110823eb3c3"
      },
      "execution_count": null,
      "outputs": [
        {
          "output_type": "execute_result",
          "data": {
            "text/plain": [
              "array([1.2 , 2.  , 3.14])"
            ]
          },
          "metadata": {},
          "execution_count": 17
        }
      ]
    },
    {
      "cell_type": "markdown",
      "source": [
        "## **Array Attributes**"
      ],
      "metadata": {
        "id": "-eoKE6XoviK0"
      }
    },
    {
      "cell_type": "code",
      "source": [
        "d1_arr = np.zeros(4) #One-dimensional array\n",
        "d2_arr = np.zeros((3,3)) #Two-dimensional array\n",
        "d3_arr = np.zeros((3,4,5)) # Three-dimensional array\n",
        "for arr in [d1_arr,d2_arr,d3_arr] :\n",
        "  print (\"Array:\" ,arr )\n",
        "  print(\"Dimension:\", arr.ndim)\n",
        "  print(\"Shape:\",arr.shape )\n",
        "  print(\"Size:\" ,arr.size)\n",
        "  print(\"***************\")"
      ],
      "metadata": {
        "colab": {
          "base_uri": "https://localhost:8080/"
        },
        "id": "sPRFKI_tvkTg",
        "outputId": "71e82068-8993-4d05-aec5-411151d7d5b1"
      },
      "execution_count": null,
      "outputs": [
        {
          "output_type": "stream",
          "name": "stdout",
          "text": [
            "Array: [0. 0. 0. 0.]\n",
            "Dimension: 1\n",
            "Shape: (4,)\n",
            "Size: 4\n",
            "***************\n",
            "Array: [[0. 0. 0.]\n",
            " [0. 0. 0.]\n",
            " [0. 0. 0.]]\n",
            "Dimension: 2\n",
            "Shape: (3, 3)\n",
            "Size: 9\n",
            "***************\n",
            "Array: [[[0. 0. 0. 0. 0.]\n",
            "  [0. 0. 0. 0. 0.]\n",
            "  [0. 0. 0. 0. 0.]\n",
            "  [0. 0. 0. 0. 0.]]\n",
            "\n",
            " [[0. 0. 0. 0. 0.]\n",
            "  [0. 0. 0. 0. 0.]\n",
            "  [0. 0. 0. 0. 0.]\n",
            "  [0. 0. 0. 0. 0.]]\n",
            "\n",
            " [[0. 0. 0. 0. 0.]\n",
            "  [0. 0. 0. 0. 0.]\n",
            "  [0. 0. 0. 0. 0.]\n",
            "  [0. 0. 0. 0. 0.]]]\n",
            "Dimension: 3\n",
            "Shape: (3, 4, 5)\n",
            "Size: 60\n",
            "***************\n"
          ]
        }
      ]
    },
    {
      "cell_type": "markdown",
      "source": [
        "## **Array Indexing**"
      ],
      "metadata": {
        "id": "d-OkOfbe_GJU"
      }
    },
    {
      "cell_type": "markdown",
      "source": [
        "**Single Elements**"
      ],
      "metadata": {
        "id": "RC6wF7F5_WqX"
      }
    },
    {
      "cell_type": "code",
      "source": [
        "#we can access the nth value (counting from zero) by specifying the desired index in square brackets:\n",
        "\n",
        "print(\"The Array : \", arr1, \"1st item :\",arr1[0],\n",
        "      \"8th item: \", arr1[7],\n",
        "      \"last item:\", arr1[-1],\n",
        "      \"2nd to last item :\", arr1[-2],\n",
        "      \"last item:\",arr1[len(arr1)-1],\n",
        "      \"1st item :\" ,arr1[-len(arr1)],sep=\"\\n\")\n"
      ],
      "metadata": {
        "colab": {
          "base_uri": "https://localhost:8080/"
        },
        "id": "WBBIXc95_H-G",
        "outputId": "3d354483-dc8f-4918-e310-1e6687cc4c52"
      },
      "execution_count": null,
      "outputs": [
        {
          "output_type": "stream",
          "name": "stdout",
          "text": [
            "The Array : \n",
            "[1 2 3 4 5 6 7 8 9]\n",
            "1st item :\n",
            "1\n",
            "8th item: \n",
            "8\n",
            "last item:\n",
            "9\n",
            "2nd to last item :\n",
            "8\n",
            "last item:\n",
            "9\n",
            "1st item :\n",
            "1\n"
          ]
        }
      ]
    },
    {
      "cell_type": "code",
      "source": [
        "mat = arr1.reshape(3,3)\n",
        "print(\"The Matrix : \", mat, \"1st entry :\",mat[0,0],\n",
        "      \"8th entry: \", mat[2,1],\n",
        "      \"last entry:\", mat[2,2],\n",
        "      \"8th entry :\", mat[-1,-2],\n",
        "      \"last entry:\",mat[len(mat)-1,len(mat)-1],\n",
        "      \"1st entry :\" ,mat[-len(mat),-len(mat)],sep=\"\\n\")"
      ],
      "metadata": {
        "colab": {
          "base_uri": "https://localhost:8080/"
        },
        "id": "7PkVtCZ5_uDJ",
        "outputId": "fb5270bd-f74a-40f4-9427-f09bd34b7fbe"
      },
      "execution_count": null,
      "outputs": [
        {
          "output_type": "stream",
          "name": "stdout",
          "text": [
            "The Matrix : \n",
            "[[1 2 3]\n",
            " [4 5 6]\n",
            " [7 8 9]]\n",
            "1st entry :\n",
            "1\n",
            "8th entry: \n",
            "8\n",
            "last entry:\n",
            "9\n",
            "8th entry :\n",
            "8\n",
            "last entry:\n",
            "9\n",
            "1st entry :\n",
            "1\n"
          ]
        }
      ]
    },
    {
      "cell_type": "code",
      "source": [
        "# change the value of an entry :\n",
        "arr_c = np.copy(arr1) # make a copy of the array\n",
        "arr_c[0] = 55\n",
        "mat_c =np.copy(mat)\n",
        "mat_c[1,1] = 33\n",
        "print(arr_c,mat_c,sep=\"\\n\")\n"
      ],
      "metadata": {
        "colab": {
          "base_uri": "https://localhost:8080/"
        },
        "id": "IkKU29lLAOXL",
        "outputId": "af453257-1b7f-4ec8-9a97-4c69c179b880"
      },
      "execution_count": null,
      "outputs": [
        {
          "output_type": "stream",
          "name": "stdout",
          "text": [
            "[55  2  3  4  5  6  7  8  9]\n",
            "[[ 1  2  3]\n",
            " [ 4 33  6]\n",
            " [ 7  8  9]]\n"
          ]
        }
      ]
    },
    {
      "cell_type": "markdown",
      "source": [
        "**Subarrays**"
      ],
      "metadata": {
        "id": "yGNy0ludHF36"
      }
    },
    {
      "cell_type": "code",
      "source": [
        "#One-dimensional subarrays , array [start , stop , step]\n",
        "print(arr1[2:5:2] , arr1[:3], arr1[3:], arr1[::2],arr1[::],arr1[::-1],sep=\"\\n\")"
      ],
      "metadata": {
        "colab": {
          "base_uri": "https://localhost:8080/"
        },
        "id": "rbw59ZvkENw3",
        "outputId": "5453a739-e778-482e-d6ef-59adfb9bb83f"
      },
      "execution_count": null,
      "outputs": [
        {
          "output_type": "stream",
          "name": "stdout",
          "text": [
            "[3 5]\n",
            "[1 2 3]\n",
            "[4 5 6 7 8 9]\n",
            "[1 3 5 7 9]\n",
            "[1 2 3 4 5 6 7 8 9]\n",
            "[9 8 7 6 5 4 3 2 1]\n"
          ]
        }
      ]
    },
    {
      "cell_type": "code",
      "source": [
        "#Multidimensional subarrays\n",
        "print(mat[1:2 , 0:2], mat[0],mat[:,0],mat[:,::2],mat[-1:,1: ],sep=\"\\n*******\\n\")"
      ],
      "metadata": {
        "colab": {
          "base_uri": "https://localhost:8080/"
        },
        "id": "-SDGHkEUEduM",
        "outputId": "a72de268-ad5d-40e9-f7a2-e2d2b756c79e"
      },
      "execution_count": null,
      "outputs": [
        {
          "output_type": "stream",
          "name": "stdout",
          "text": [
            "[[4 5]]\n",
            "*******\n",
            "[1 2 3]\n",
            "*******\n",
            "[1 4 7]\n",
            "*******\n",
            "[[1 3]\n",
            " [4 6]\n",
            " [7 9]]\n",
            "*******\n",
            "[[8 9]]\n"
          ]
        }
      ]
    },
    {
      "cell_type": "code",
      "source": [
        "mat"
      ],
      "metadata": {
        "colab": {
          "base_uri": "https://localhost:8080/"
        },
        "id": "wASNva-9IfZO",
        "outputId": "94fabca9-0847-4493-dfbd-f9d6bdeeb61e"
      },
      "execution_count": null,
      "outputs": [
        {
          "output_type": "execute_result",
          "data": {
            "text/plain": [
              "array([[1, 2, 3],\n",
              "       [4, 5, 6],\n",
              "       [7, 8, 9]])"
            ]
          },
          "metadata": {},
          "execution_count": 24
        }
      ]
    },
    {
      "cell_type": "code",
      "source": [
        "#Stack arrays in sequence horizontally (column wise).\n",
        "harr = np.hstack((arr1,arr2))\n",
        "# Stack arrays in sequence vertically (row wise).\n",
        "varr = np.vstack((arr1,arr1))\n",
        "print(harr,varr,sep=\"\\n ************* \\n \")"
      ],
      "metadata": {
        "colab": {
          "base_uri": "https://localhost:8080/"
        },
        "id": "JH3K0ktHTMF4",
        "outputId": "94ab7d61-c369-4784-e572-cb5a67d90415"
      },
      "execution_count": null,
      "outputs": [
        {
          "output_type": "stream",
          "name": "stdout",
          "text": [
            "[1.   2.   3.   4.   5.   6.   7.   8.   9.   0.   1.2  2.   3.14]\n",
            " ************* \n",
            " [[1 2 3 4 5 6 7 8 9]\n",
            " [1 2 3 4 5 6 7 8 9]]\n"
          ]
        }
      ]
    },
    {
      "cell_type": "markdown",
      "source": [
        "**Splitting of arrays**"
      ],
      "metadata": {
        "id": "xkfpd5pWWvJo"
      }
    },
    {
      "cell_type": "code",
      "source": [
        "s1arr = np.split(arr1,3)\n",
        "s2arr = np.split(arr1 , [5,7])\n",
        "arr_a , arr_b , arr_c = s1arr\n",
        "print(s1arr ,s2arr , arr_a , arr_b , arr_c , sep= \"\\n  **************** \\n\")"
      ],
      "metadata": {
        "colab": {
          "base_uri": "https://localhost:8080/"
        },
        "id": "CyEPzmmWVcF3",
        "outputId": "30613181-da92-4c35-8ec9-855ff063985c"
      },
      "execution_count": null,
      "outputs": [
        {
          "output_type": "stream",
          "name": "stdout",
          "text": [
            "[array([1, 2, 3]), array([4, 5, 6]), array([7, 8, 9])]\n",
            "  **************** \n",
            "[array([1, 2, 3, 4, 5]), array([6, 7]), array([8, 9])]\n",
            "  **************** \n",
            "[1 2 3]\n",
            "  **************** \n",
            "[4 5 6]\n",
            "  **************** \n",
            "[7 8 9]\n"
          ]
        }
      ]
    },
    {
      "cell_type": "markdown",
      "source": [
        "## **Array Arithmetic**"
      ],
      "metadata": {
        "id": "NZw5V22qY2sp"
      }
    },
    {
      "cell_type": "markdown",
      "source": [
        "### **Basics**"
      ],
      "metadata": {
        "id": "-s5lWSqqayc-"
      }
    },
    {
      "cell_type": "code",
      "source": [
        "add_arr = 5 + arr1 \n",
        "subtract_arr =  arr1-11\n",
        "multiply_arr = 2 * arr1\n",
        "divide_arr = 7/ arr1\n",
        "floor_divide_arr = 9//arr1\n",
        "power_arr = arr1**3\n",
        "mod_arr = arr1%2\n",
        "print (add_arr, subtract_arr ,multiply_arr , divide_arr , floor_divide_arr , power_arr , mod_arr ,abs(subtract_arr), sep =\"\\n ************* \\n \")"
      ],
      "metadata": {
        "colab": {
          "base_uri": "https://localhost:8080/"
        },
        "id": "5uXs0UBwY4K7",
        "outputId": "a1f06ff2-ae7a-4b8f-8f05-58922fa318e3"
      },
      "execution_count": null,
      "outputs": [
        {
          "output_type": "stream",
          "name": "stdout",
          "text": [
            "[ 6  7  8  9 10 11 12 13 14]\n",
            " ************* \n",
            " [-10  -9  -8  -7  -6  -5  -4  -3  -2]\n",
            " ************* \n",
            " [ 2  4  6  8 10 12 14 16 18]\n",
            " ************* \n",
            " [7.         3.5        2.33333333 1.75       1.4        1.16666667\n",
            " 1.         0.875      0.77777778]\n",
            " ************* \n",
            " [9 4 3 2 1 1 1 1 1]\n",
            " ************* \n",
            " [  1   8  27  64 125 216 343 512 729]\n",
            " ************* \n",
            " [1 0 1 0 1 0 1 0 1]\n",
            " ************* \n",
            " [10  9  8  7  6  5  4  3  2]\n"
          ]
        }
      ]
    },
    {
      "cell_type": "markdown",
      "source": [
        "**Trigonometric functions**"
      ],
      "metadata": {
        "id": "4LGEU4r1a-CF"
      }
    },
    {
      "cell_type": "code",
      "source": [
        "rad_theta = np.linspace(0, 2*np.pi, 5)\n",
        "dge_theta = [0, 30 , 45  ]\n",
        "to_rad = np.radians( dge_theta)\n",
        "to_dge = np.degrees(rad_theta)\n",
        "\n",
        "print(\"theta in radians : \", rad_theta , \"theta in dgrees :\",to_dge,\"sin(theta) :\", np.sin(rad_theta),\"cos(theta):\", np.cos(rad_theta),\"tan(theta):\",np.tan(rad_theta),sep = \"\\n \\n \")\n",
        "print(\"theta in dgrees :\" , dge_theta , \"theta in radians\", to_rad, sep =\"\\n \\n \")\n",
        "print(\"arcsin(theta):\" , np.arcsin(to_rad) , \"arccos(theta):\",np.arccos(to_rad),\"arctan(theta):\", np.arctan(to_rad),sep=\"\\n\\n\")"
      ],
      "metadata": {
        "colab": {
          "base_uri": "https://localhost:8080/"
        },
        "id": "P9L23OxMbAPE",
        "outputId": "39028089-1052-4239-851c-6ef4e95e4464"
      },
      "execution_count": null,
      "outputs": [
        {
          "output_type": "stream",
          "name": "stdout",
          "text": [
            "theta in radians : \n",
            " \n",
            " [0.         1.57079633 3.14159265 4.71238898 6.28318531]\n",
            " \n",
            " theta in dgrees :\n",
            " \n",
            " [  0.  90. 180. 270. 360.]\n",
            " \n",
            " sin(theta) :\n",
            " \n",
            " [ 0.0000000e+00  1.0000000e+00  1.2246468e-16 -1.0000000e+00\n",
            " -2.4492936e-16]\n",
            " \n",
            " cos(theta):\n",
            " \n",
            " [ 1.0000000e+00  6.1232340e-17 -1.0000000e+00 -1.8369702e-16\n",
            "  1.0000000e+00]\n",
            " \n",
            " tan(theta):\n",
            " \n",
            " [ 0.00000000e+00  1.63312394e+16 -1.22464680e-16  5.44374645e+15\n",
            " -2.44929360e-16]\n",
            "theta in dgrees :\n",
            " \n",
            " [0, 30, 45]\n",
            " \n",
            " theta in radians\n",
            " \n",
            " [0.         0.52359878 0.78539816]\n",
            "arcsin(theta):\n",
            "\n",
            "[0.         0.55106958 0.90333911]\n",
            "\n",
            "arccos(theta):\n",
            "\n",
            "[1.57079633 1.01972674 0.66745722]\n",
            "\n",
            "arctan(theta):\n",
            "\n",
            "[0.         0.48234791 0.66577375]\n"
          ]
        }
      ]
    },
    {
      "cell_type": "markdown",
      "source": [
        "**Exponents and logarithms**"
      ],
      "metadata": {
        "id": "4BoNbKotlrno"
      }
    },
    {
      "cell_type": "code",
      "source": [
        "exp_arr = np.exp(arr1)\n",
        "ln_arr = np.log(arr1)\n",
        "log_arr = np.log2(arr1)\n",
        "print(exp_arr , ln_arr , log_arr , sep=\"\\n\\n\")"
      ],
      "metadata": {
        "colab": {
          "base_uri": "https://localhost:8080/"
        },
        "id": "Gj5UC_zVltGv",
        "outputId": "13b857c0-07fc-4c21-dcb0-a63aab0d7a33"
      },
      "execution_count": null,
      "outputs": [
        {
          "output_type": "stream",
          "name": "stdout",
          "text": [
            "[2.71828183e+00 7.38905610e+00 2.00855369e+01 5.45981500e+01\n",
            " 1.48413159e+02 4.03428793e+02 1.09663316e+03 2.98095799e+03\n",
            " 8.10308393e+03]\n",
            "\n",
            "[0.         0.69314718 1.09861229 1.38629436 1.60943791 1.79175947\n",
            " 1.94591015 2.07944154 2.19722458]\n",
            "\n",
            "[0.         1.         1.5849625  2.         2.32192809 2.5849625\n",
            " 2.80735492 3.         3.169925  ]\n"
          ]
        }
      ]
    },
    {
      "cell_type": "markdown",
      "source": [
        "**Sum , min , max , ...**"
      ],
      "metadata": {
        "id": "NqvYkE6YnWVC"
      }
    },
    {
      "cell_type": "code",
      "source": [
        "sum_arr  = np.sum(arr1)\n",
        "max_arr = np.max(arr1)\n",
        "min_arr = np.min(arr1)\n",
        "sum_mat  = np.sum(mat)\n",
        "max_mat = np.max(mat)\n",
        "min_mat = np.min(mat)\n",
        "print(sum_arr,max_arr,min_arr,sum_mat,max_mat,min_mat,sep=\"\\n\\n\")"
      ],
      "metadata": {
        "colab": {
          "base_uri": "https://localhost:8080/"
        },
        "id": "LabbTC1JmQBR",
        "outputId": "859d7200-3f9f-493e-b05f-b5691c1c8519"
      },
      "execution_count": null,
      "outputs": [
        {
          "output_type": "stream",
          "name": "stdout",
          "text": [
            "45\n",
            "\n",
            "9\n",
            "\n",
            "1\n",
            "\n",
            "45\n",
            "\n",
            "9\n",
            "\n",
            "1\n"
          ]
        }
      ]
    },
    {
      "cell_type": "markdown",
      "source": [
        "## **Broadcasting**\n",
        "Rules of Broadcasting:\n",
        "\n",
        "• Rule 1: If the two arrays differ in their number of dimensions, the shape of the one with fewer dimensions is padded with ones on its leading (left) side.\n",
        "\n",
        "• Rule 2: If the shape of the two arrays does not match in any dimension, the array with shape equal to 1 in that dimension is stretched to match the other shape.\n",
        "\n",
        "• Rule 3: If in any dimension the sizes disagree and neither is equal to 1, an error is raised."
      ],
      "metadata": {
        "id": "4ty0zFI_Wqra"
      }
    },
    {
      "cell_type": "code",
      "source": [
        "v1= arr1[:3]\n",
        "print(v1,mat,\"vector shape :\", v1.shape , \"Matrix shape :\", mat.shape ,\"M + V :\", mat +v1 ,\"V - M :\", v1 -mat ,\"M -V : \", mat - v1,sep = \"\\n\\n\")"
      ],
      "metadata": {
        "colab": {
          "base_uri": "https://localhost:8080/"
        },
        "id": "UtI58eYaXIER",
        "outputId": "fc2be8ac-ab1c-456a-f91a-33e990e2c19f"
      },
      "execution_count": null,
      "outputs": [
        {
          "output_type": "stream",
          "name": "stdout",
          "text": [
            "[1 2 3]\n",
            "\n",
            "[[1 2 3]\n",
            " [4 5 6]\n",
            " [7 8 9]]\n",
            "\n",
            "vector shape :\n",
            "\n",
            "(3,)\n",
            "\n",
            "Matrix shape :\n",
            "\n",
            "(3, 3)\n",
            "\n",
            "M + V :\n",
            "\n",
            "[[ 2  4  6]\n",
            " [ 5  7  9]\n",
            " [ 8 10 12]]\n",
            "\n",
            "V - M :\n",
            "\n",
            "[[ 0  0  0]\n",
            " [-3 -3 -3]\n",
            " [-6 -6 -6]]\n",
            "\n",
            "M -V : \n",
            "\n",
            "[[0 0 0]\n",
            " [3 3 3]\n",
            " [6 6 6]]\n"
          ]
        }
      ]
    },
    {
      "cell_type": "code",
      "source": [
        "print(arr1,mat,\"vector shape :\", arr1.shape , \"Matrix shape :\", mat.shape ,\"M + V :\", mat +arr1 ,sep = \"\\n\\n\") # error"
      ],
      "metadata": {
        "colab": {
          "base_uri": "https://localhost:8080/",
          "height": 165
        },
        "id": "jWVFoQaFXdXI",
        "outputId": "6b4d198c-dbf0-4c42-ff60-58a1b60f5a0e"
      },
      "execution_count": null,
      "outputs": [
        {
          "output_type": "error",
          "ename": "ValueError",
          "evalue": "ignored",
          "traceback": [
            "\u001b[0;31m---------------------------------------------------------------------------\u001b[0m",
            "\u001b[0;31mValueError\u001b[0m                                Traceback (most recent call last)",
            "\u001b[0;32m<ipython-input-84-922d9c93bd20>\u001b[0m in \u001b[0;36m<module>\u001b[0;34m()\u001b[0m\n\u001b[0;32m----> 1\u001b[0;31m \u001b[0mprint\u001b[0m\u001b[0;34m(\u001b[0m\u001b[0marr1\u001b[0m\u001b[0;34m,\u001b[0m\u001b[0mmat\u001b[0m\u001b[0;34m,\u001b[0m\u001b[0;34m\"vector shape :\"\u001b[0m\u001b[0;34m,\u001b[0m \u001b[0marr1\u001b[0m\u001b[0;34m.\u001b[0m\u001b[0mshape\u001b[0m \u001b[0;34m,\u001b[0m \u001b[0;34m\"Matrix shape :\"\u001b[0m\u001b[0;34m,\u001b[0m \u001b[0mmat\u001b[0m\u001b[0;34m.\u001b[0m\u001b[0mshape\u001b[0m \u001b[0;34m,\u001b[0m\u001b[0;34m\"M + V :\"\u001b[0m\u001b[0;34m,\u001b[0m \u001b[0mmat\u001b[0m \u001b[0;34m+\u001b[0m\u001b[0marr1\u001b[0m \u001b[0;34m,\u001b[0m\u001b[0msep\u001b[0m \u001b[0;34m=\u001b[0m \u001b[0;34m\"\\n\\n\"\u001b[0m\u001b[0;34m)\u001b[0m \u001b[0;31m# error\u001b[0m\u001b[0;34m\u001b[0m\u001b[0;34m\u001b[0m\u001b[0m\n\u001b[0m",
            "\u001b[0;31mValueError\u001b[0m: operands could not be broadcast together with shapes (3,3) (9,) "
          ]
        }
      ]
    },
    {
      "cell_type": "markdown",
      "source": [
        "## **Comparison Operators and  Boolean Arrays** "
      ],
      "metadata": {
        "id": "Hm0VjsfJbSM4"
      }
    },
    {
      "cell_type": "code",
      "source": [
        "arr1"
      ],
      "metadata": {
        "colab": {
          "base_uri": "https://localhost:8080/"
        },
        "id": "vHbnAOitbUh0",
        "outputId": "deccebd1-aeca-4471-bcaa-10c61938e305"
      },
      "execution_count": null,
      "outputs": [
        {
          "output_type": "execute_result",
          "data": {
            "text/plain": [
              "array([1, 2, 3, 4, 5, 6, 7, 8, 9])"
            ]
          },
          "metadata": {},
          "execution_count": 33
        }
      ]
    },
    {
      "cell_type": "code",
      "source": [
        "print(arr1>=4 , arr1 == 7, arr1 != 1,arr1**2 == arr1*4 ,sep= \"\\n _____________________________________\\n \")"
      ],
      "metadata": {
        "colab": {
          "base_uri": "https://localhost:8080/"
        },
        "id": "j6zBX8Kyb75w",
        "outputId": "dc129a25-fdf0-421e-d081-ab661535384e"
      },
      "execution_count": null,
      "outputs": [
        {
          "output_type": "stream",
          "name": "stdout",
          "text": [
            "[False False False  True  True  True  True  True  True]\n",
            " _____________________________________\n",
            " [False False False False False False  True False False]\n",
            " _____________________________________\n",
            " [False  True  True  True  True  True  True  True  True]\n",
            " _____________________________________\n",
            " [False False False  True False False False False False]\n"
          ]
        }
      ]
    },
    {
      "cell_type": "code",
      "source": [
        "mat"
      ],
      "metadata": {
        "colab": {
          "base_uri": "https://localhost:8080/"
        },
        "id": "DuFcTX-gcRqm",
        "outputId": "4641cd8a-064d-49b3-aad1-f446ec102b9e"
      },
      "execution_count": null,
      "outputs": [
        {
          "output_type": "execute_result",
          "data": {
            "text/plain": [
              "array([[1, 2, 3],\n",
              "       [4, 5, 6],\n",
              "       [7, 8, 9]])"
            ]
          },
          "metadata": {},
          "execution_count": 37
        }
      ]
    },
    {
      "cell_type": "code",
      "source": [
        "print(mat>=4 , mat == 7, mat != 1,mat**2 == mat*4 ,sep= \"\\n _____________________________________\\n \")"
      ],
      "metadata": {
        "colab": {
          "base_uri": "https://localhost:8080/"
        },
        "id": "xqqgP8HnculX",
        "outputId": "45fe607b-35a4-4f00-e7a6-30510ae8e477"
      },
      "execution_count": null,
      "outputs": [
        {
          "output_type": "stream",
          "name": "stdout",
          "text": [
            "[[False False False]\n",
            " [ True  True  True]\n",
            " [ True  True  True]]\n",
            " _____________________________________\n",
            " [[False False False]\n",
            " [False False False]\n",
            " [ True False False]]\n",
            " _____________________________________\n",
            " [[False  True  True]\n",
            " [ True  True  True]\n",
            " [ True  True  True]]\n",
            " _____________________________________\n",
            " [[False False False]\n",
            " [ True False False]\n",
            " [False False False]]\n"
          ]
        }
      ]
    },
    {
      "cell_type": "code",
      "source": [
        "np.count_nonzero(arr1< 4) ,np.sum(arr1 < 7), np.any(arr1 == 4) , np.all(arr1 < 5)"
      ],
      "metadata": {
        "colab": {
          "base_uri": "https://localhost:8080/"
        },
        "id": "skDmFxj1c1XE",
        "outputId": "ac29a6a3-15ff-44ab-d18d-36f0264d0f99"
      },
      "execution_count": null,
      "outputs": [
        {
          "output_type": "execute_result",
          "data": {
            "text/plain": [
              "(3, 6, True, False)"
            ]
          },
          "metadata": {},
          "execution_count": 47
        }
      ]
    },
    {
      "cell_type": "code",
      "source": [
        "print(np.count_nonzero(mat< 4),\n",
        "np.sum(mat < 7),\n",
        " np.any(mat == 4) ,\n",
        " np.all(mat < 5) ,\n",
        "np.sum(mat < 7, axis = 0),\n",
        " np.sum(mat < 7, axis = 1),\n",
        " np.all(mat < 5, axis=0),\n",
        " np.any(mat < 5,axis =1) ,sep = \"\\n\\n\")"
      ],
      "metadata": {
        "colab": {
          "base_uri": "https://localhost:8080/"
        },
        "id": "_qMcEhYIdamZ",
        "outputId": "21fe11e1-cd5d-48bf-d980-5d16e251f96d"
      },
      "execution_count": null,
      "outputs": [
        {
          "output_type": "stream",
          "name": "stdout",
          "text": [
            "3\n",
            "\n",
            "6\n",
            "\n",
            "True\n",
            "\n",
            "False\n",
            "\n",
            "[2 2 2]\n",
            "\n",
            "[3 3 0]\n",
            "\n",
            "[False False False]\n",
            "\n",
            "[ True  True False]\n"
          ]
        }
      ]
    },
    {
      "cell_type": "code",
      "source": [
        " np.all(mat < 5) &  np.any(mat == 4) , np.all(mat < 5) |  np.any(mat == 4), ~(np.all(mat < 5) |  np.any(mat == 4))"
      ],
      "metadata": {
        "colab": {
          "base_uri": "https://localhost:8080/"
        },
        "id": "Mscm1zQ5ecYd",
        "outputId": "3469b8ba-389c-4ef7-faa9-b6479baa2f53"
      },
      "execution_count": null,
      "outputs": [
        {
          "output_type": "execute_result",
          "data": {
            "text/plain": [
              "(False, True, False)"
            ]
          },
          "metadata": {},
          "execution_count": 62
        }
      ]
    },
    {
      "cell_type": "code",
      "source": [
        "[[i, bin(i),bool(i)] for i in arr1]  #The prefix 0b represents that the result is a binary string \n"
      ],
      "metadata": {
        "colab": {
          "base_uri": "https://localhost:8080/"
        },
        "id": "BrFN0Hmwgk21",
        "outputId": "2fad2347-463b-465b-e63f-4ee8182140db"
      },
      "execution_count": null,
      "outputs": [
        {
          "output_type": "execute_result",
          "data": {
            "text/plain": [
              "[[1, '0b1', True],\n",
              " [2, '0b10', True],\n",
              " [3, '0b11', True],\n",
              " [4, '0b100', True],\n",
              " [5, '0b101', True],\n",
              " [6, '0b110', True],\n",
              " [7, '0b111', True],\n",
              " [8, '0b1000', True],\n",
              " [9, '0b1001', True]]"
            ]
          },
          "metadata": {},
          "execution_count": 83
        }
      ]
    },
    {
      "cell_type": "code",
      "source": [
        "arr1 ^ 3 # https://www.khanacademy.org/computing/computer-science/cryptography/ciphers/a/xor-bitwise-operation"
      ],
      "metadata": {
        "colab": {
          "base_uri": "https://localhost:8080/"
        },
        "id": "l3vqhKxOfe_W",
        "outputId": "5de85b28-df43-4e99-8798-a5758b89775a"
      },
      "execution_count": null,
      "outputs": [
        {
          "output_type": "execute_result",
          "data": {
            "text/plain": [
              "array([ 2,  1,  0,  7,  6,  5,  4, 11, 10])"
            ]
          },
          "metadata": {},
          "execution_count": 68
        }
      ]
    },
    {
      "cell_type": "code",
      "source": [
        "mat [mat > 7], arr1[arr1 != 0]"
      ],
      "metadata": {
        "colab": {
          "base_uri": "https://localhost:8080/"
        },
        "id": "plhslByphDy9",
        "outputId": "09f2d6c3-f5fb-4a2a-e1cf-9dea14cdab93"
      },
      "execution_count": null,
      "outputs": [
        {
          "output_type": "execute_result",
          "data": {
            "text/plain": [
              "(array([8, 9]), array([1, 2, 3, 4, 5, 6, 7, 8, 9]))"
            ]
          },
          "metadata": {},
          "execution_count": 75
        }
      ]
    },
    {
      "cell_type": "code",
      "source": [
        "#np.partition takes an array and a number K; the result is a new array with the small‐est K values to the left of the partition, \n",
        "#and the remaining values to the right, in arbi‐trary order:\n",
        "arr_p = np.array([3,5,6,8,1,0,4,3,7,2,0,10])\n",
        "np.partition(arr_p,2)"
      ],
      "metadata": {
        "colab": {
          "base_uri": "https://localhost:8080/"
        },
        "id": "w26XoxmelSd-",
        "outputId": "ec9745ed-e871-48da-de8d-cf35ee277703"
      },
      "execution_count": null,
      "outputs": [
        {
          "output_type": "execute_result",
          "data": {
            "text/plain": [
              "array([ 0,  0,  1,  8,  6,  3,  4,  3,  7,  2,  5, 10])"
            ]
          },
          "metadata": {},
          "execution_count": 18
        }
      ]
    },
    {
      "cell_type": "code",
      "source": [
        " matA = np.matrix([[3,0,1,2,5,87],\n",
        "                   [3,5,8,1,10,2],\n",
        "                   [0,12,3,5,7,0]])\n",
        " print(np.partition(matA, 2, axis=0), np.partition(matA, 2, axis=1),sep=\"\\n _________________________________________\\n\") "
      ],
      "metadata": {
        "id": "18ttS4Fj_sG2",
        "colab": {
          "base_uri": "https://localhost:8080/"
        },
        "outputId": "e5501b0a-c553-4899-b9ab-ebc778901779"
      },
      "execution_count": 5,
      "outputs": [
        {
          "output_type": "stream",
          "name": "stdout",
          "text": [
            "[[ 0  0  1  1  5  0]\n",
            " [ 3  5  3  2  7  2]\n",
            " [ 3 12  8  5 10 87]]\n",
            " _________________________________________\n",
            "[[ 0  1  2  3  5 87]\n",
            " [ 1  2  3  8 10  5]\n",
            " [ 0  0  3  5  7 12]]\n"
          ]
        }
      ]
    },
    {
      "cell_type": "code",
      "source": [
        " np.partition(matA, 2, axis=0)"
      ],
      "metadata": {
        "colab": {
          "base_uri": "https://localhost:8080/"
        },
        "id": "NXmduUwueVwr",
        "outputId": "7d1764ba-bcdf-4ce5-891c-808a04184214"
      },
      "execution_count": 4,
      "outputs": [
        {
          "output_type": "execute_result",
          "data": {
            "text/plain": [
              "matrix([[ 0,  0,  1,  1,  5,  0],\n",
              "        [ 3,  5,  3,  2,  7,  2],\n",
              "        [ 3, 12,  8,  5, 10, 87]])"
            ]
          },
          "metadata": {},
          "execution_count": 4
        }
      ]
    },
    {
      "cell_type": "markdown",
      "source": [
        "**Array Generation by repeatition**"
      ],
      "metadata": {
        "id": "Bc2xPKVafPry"
      }
    },
    {
      "cell_type": "code",
      "source": [
        "m= np.array([[1,2,3],\n",
        "              [4,5,6]])\n",
        "np.tile(m,6) "
      ],
      "metadata": {
        "colab": {
          "base_uri": "https://localhost:8080/"
        },
        "id": "ZV9i8qp0eaPt",
        "outputId": "a0bd731b-554e-47dd-b181-632c119b00c9"
      },
      "execution_count": 7,
      "outputs": [
        {
          "output_type": "execute_result",
          "data": {
            "text/plain": [
              "array([[1, 2, 3, 1, 2, 3, 1, 2, 3, 1, 2, 3, 1, 2, 3, 1, 2, 3],\n",
              "       [4, 5, 6, 4, 5, 6, 4, 5, 6, 4, 5, 6, 4, 5, 6, 4, 5, 6]])"
            ]
          },
          "metadata": {},
          "execution_count": 7
        }
      ]
    },
    {
      "cell_type": "markdown",
      "source": [
        "## **Matrices Operations**\n"
      ],
      "metadata": {
        "id": "qTr6DGudfzjn"
      }
    },
    {
      "cell_type": "markdown",
      "source": [
        "\n",
        "[Multiplying](https://www.khanacademy.org/math/precalculus/x9e81a4f98389efdf:matrices/x9e81a4f98389efdf:multiplying-matrices-by-matrices/a/multiplying-matrices)\n",
        "\n",
        "\n",
        "[Transposing](https://www.khanacademy.org/math/linear-algebra/matrix-transformations/matrix-transpose/v/linear-algebra-transpose-of-a-matrix)\n",
        "\n",
        "**Systems of Equations:**\n",
        "\n",
        "[Representing ](https://www.khanacademy.org/math/precalculus/x9e81a4f98389efdf:matrices/x9e81a4f98389efdf:representing-systems-with-matrices/v/representing-systems-of-equations-with-matrices)\n",
        "\n",
        "\n",
        "[Solving](https://www.khanacademy.org/math/precalculus/x9e81a4f98389efdf:matrices/x9e81a4f98389efdf:solving-equations-with-inverse-matrices/v/solving-matrix-equation)\n",
        "\n",
        "[Eigenvalues](https://www.khanacademy.org/math/linear-algebra/alternate-bases/eigen-everything/v/linear-algebra-introduction-to-eigenvalues-and-eigenvectors)"
      ],
      "metadata": {
        "id": "Xej-7gybpznD"
      }
    },
    {
      "cell_type": "code",
      "source": [
        "\n",
        "\n",
        "A = np.array([[-5 , 1, -2],\n",
        "              [-33, 6, -14],\n",
        "              [17 ,-3 ,7]])\n",
        "\n",
        "B = np.array([[2,3,4],\n",
        "              [5,6,7],\n",
        "              [8,9,10]])\n",
        "b=np.array([5,-7,9])\n",
        "\"\"\"\n",
        "-5x+ y -2z = 5\n",
        "-33x + 6y -14z = -7\n",
        "17x -3y + 7z = 9\n",
        "\n",
        "\"\"\"\n",
        "b=np.array([5,-7,9])\n",
        "\n",
        "\n",
        "print(\"A.B =\", A@B ,\"A  Transpose =\",A.T ,\"Systems of Equations Solution :\",np.linalg.solve(A,b),\"Eigenvalues:\",np.linalg.eig(A),sep =\"\\n \\n\" )\n"
      ],
      "metadata": {
        "colab": {
          "base_uri": "https://localhost:8080/"
        },
        "id": "BbH8udC6fhuN",
        "outputId": "460b7b9e-3bba-4fae-a38e-c253db631ba3"
      },
      "execution_count": 40,
      "outputs": [
        {
          "output_type": "stream",
          "name": "stdout",
          "text": [
            "A.B =\n",
            " \n",
            "[[ -21  -27  -33]\n",
            " [-148 -189 -230]\n",
            " [  75   96  117]]\n",
            " \n",
            "A  Transpose =\n",
            " \n",
            "[[ -5 -33  17]\n",
            " [  1   6  -3]\n",
            " [ -2 -14   7]]\n",
            " \n",
            "Systems of Equations Solution :\n",
            " \n",
            "[11. 64.  2.]\n",
            " \n",
            "Eigenvalues:\n",
            " \n",
            "(array([ 7.72431722,  0.52314845, -0.24746567]), array([[-0.13838355, -0.25291132, -0.4096354 ],\n",
            "       [-0.88937573, -0.94015381, -0.14574208],\n",
            "       [ 0.43573021,  0.22835649,  0.90053211]]))\n"
          ]
        }
      ]
    },
    {
      "cell_type": "code",
      "source": [
        "#Calculus\n",
        "x = np.linspace(0, 10, 100)\n",
        "y =  np.sinh(1/np.exp(x))\n",
        "y_prime = np.gradient(y,x)\n",
        "y_integral = np.cumsum(y) * (x[1]-x[0])"
      ],
      "metadata": {
        "id": "koFFzuJJgCDU"
      },
      "execution_count": 25,
      "outputs": []
    },
    {
      "cell_type": "code",
      "source": [
        "plt.plot(y)\n",
        "plt.plot(y_prime)\n",
        "plt.plot(y_integral)"
      ],
      "metadata": {
        "colab": {
          "base_uri": "https://localhost:8080/",
          "height": 282
        },
        "id": "fWHs_tpli_YR",
        "outputId": "d1b9315a-36eb-435b-872e-ba553e307fd3"
      },
      "execution_count": 30,
      "outputs": [
        {
          "output_type": "execute_result",
          "data": {
            "text/plain": [
              "[<matplotlib.lines.Line2D at 0x7ff85bb9e350>]"
            ]
          },
          "metadata": {},
          "execution_count": 30
        },
        {
          "output_type": "display_data",
          "data": {
            "text/plain": [
              "<Figure size 432x288 with 1 Axes>"
            ],
            "image/png": "[encoded data removed]"
          },
          "metadata": {
            "needs_background": "light"
          }
        }
      ]
    },
    {
      "cell_type": "code",
      "source": [
        ""
      ],
      "metadata": {
        "id": "do8lOhVNlC70"
      },
      "execution_count": null,
      "outputs": []
    },
    {
      "cell_type": "markdown",
      "source": [
        "## **NumPy : Simple Project**"
      ],
      "metadata": {
        "id": "n3OrW_C9ziUS"
      }
    },
    {
      "cell_type": "code",
      "source": [
        "data = pd.read_csv(\"https://raw.githubusercontent.com/MahmoudTabasi/NumPy-Tutorial/main/Salary_Data.csv\")\n"
      ],
      "metadata": {
        "id": "6xX6ooInzqi5"
      },
      "execution_count": 43,
      "outputs": []
    },
    {
      "cell_type": "code",
      "source": [
        "salary = np.array(data[\"Salary\"])\n",
        "YearsExperience = np.array(data[\"YearsExperience\"])\n",
        "salary"
      ],
      "metadata": {
        "id": "qFSOYPyD1Yr2"
      },
      "execution_count": null,
      "outputs": []
    },
    {
      "cell_type": "code",
      "source": [
        "print(\"Mean Salary: \", salary.mean())\n",
        "print(\"Standard deviation:\", salary.std())\n",
        "print(\"Maximum Salary: \", salary.max())\n",
        "print(\"Minimum Salary: \", salary.min())\n",
        "print(\"25th percentile: \", np.percentile(salary, 25))\n",
        "print(\"Median: \", np.median(salary))\n",
        "print(\"75th percentile: \", np.percentile(salary, 75))"
      ],
      "metadata": {
        "id": "gQmvO1KJ1ZqN"
      },
      "execution_count": null,
      "outputs": []
    },
    {
      "cell_type": "code",
      "source": [
        "plt.scatter(salary,YearsExperience)"
      ],
      "metadata": {
        "id": "NdHCpbD6114d"
      },
      "execution_count": null,
      "outputs": []
    },
    {
      "cell_type": "markdown",
      "source": [
        "**Plotting a two-dimensional function**"
      ],
      "metadata": {
        "id": "N0g69pB1afe2"
      }
    },
    {
      "cell_type": "code",
      "source": [
        "dom = np.linspace(-9, 3, 105)\n",
        "dom1 = np.linspace(-9, 3, 105)[:, np.newaxis]\n",
        "fun = np.sin(np.exp(dom1*dom)) \n"
      ],
      "metadata": {
        "id": "igCkYnwi2kkw"
      },
      "execution_count": null,
      "outputs": []
    },
    {
      "cell_type": "code",
      "source": [
        "fun[3:4]"
      ],
      "metadata": {
        "id": "rxo4SMfocxqC"
      },
      "execution_count": null,
      "outputs": []
    },
    {
      "cell_type": "code",
      "source": [
        "import matplotlib.pyplot as plt\n",
        "plt.imshow(fun, origin='lower', extent=[0, 5, 0, 5],\n",
        "cmap='viridis')\n",
        "plt.colorbar();"
      ],
      "metadata": {
        "id": "tI0XZ2uIdEsi"
      },
      "execution_count": null,
      "outputs": []
    },
    {
      "cell_type": "code",
      "source": [
        "fig = plt.figure()\n",
        "ax = plt.axes(projection='3d')\n",
        "ax.contour3D(np.linspace(-9, 3, 105),np.linspace(-9, 3, 105), fun, 50, cmap='binary')\n",
        "ax.set_xlabel('x')\n",
        "ax.set_ylabel('y')\n",
        "ax.set_zlabel('z');"
      ],
      "metadata": {
        "id": "rUZJkMX1_bVT"
      },
      "execution_count": null,
      "outputs": []
    },
    {
      "cell_type": "code",
      "source": [
        "a= np.linspace(3, 15, 4)\n",
        "b= np.linspace(3, 15, 4)[:, np.newaxis]\n",
        "a"
      ],
      "metadata": {
        "id": "evbuVw9j_uW3"
      },
      "execution_count": null,
      "outputs": []
    },
    {
      "cell_type": "code",
      "source": [
        "b"
      ],
      "metadata": {
        "id": "vPRnV8WdAp1k"
      },
      "execution_count": null,
      "outputs": []
    },
    {
      "cell_type": "code",
      "source": [
        "a*b"
      ],
      "metadata": {
        "id": "ubumL_TrmIav"
      },
      "execution_count": null,
      "outputs": []
    },
    {
      "cell_type": "code",
      "source": [
        "plt.imshow(b*np.sin(np.pi*a), origin='lower', extent=[0, 5, 0, 5],\n",
        "cmap='viridis')\n",
        "plt.colorbar();"
      ],
      "metadata": {
        "id": "4VLV6GJnmbAY"
      },
      "execution_count": null,
      "outputs": []
    }
  ]
}